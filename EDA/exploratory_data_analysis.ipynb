{
 "cells": [
  {
   "cell_type": "markdown",
   "metadata": {},
   "source": [
    "# Exploratory Data Analysis\n",
    "The objective of this notebook is to compute some statistics and visualizations to understand the data better once the corpus is created."
   ]
  },
  {
   "cell_type": "code",
   "execution_count": 145,
   "metadata": {},
   "outputs": [
    {
     "name": "stderr",
     "output_type": "stream",
     "text": [
      "[nltk_data] Downloading package stopwords to\n",
      "[nltk_data]     /Users/davidzhu/nltk_data...\n",
      "[nltk_data]   Package stopwords is already up-to-date!\n",
      "[nltk_data] Downloading package averaged_perceptron_tagger to\n",
      "[nltk_data]     /Users/davidzhu/nltk_data...\n",
      "[nltk_data]   Package averaged_perceptron_tagger is already up-to-\n",
      "[nltk_data]       date!\n",
      "[nltk_data] Downloading package wordnet to\n",
      "[nltk_data]     /Users/davidzhu/nltk_data...\n",
      "[nltk_data]   Package wordnet is already up-to-date!\n"
     ]
    },
    {
     "data": {
      "text/plain": [
       "True"
      ]
     },
     "execution_count": 145,
     "metadata": {},
     "output_type": "execute_result"
    }
   ],
   "source": [
    "import pandas as pd\n",
    "import numpy as np\n",
    "import requests\n",
    "from dotenv import load_dotenv\n",
    "import os\n",
    "import re\n",
    "import nltk\n",
    "from nltk.tokenize import word_tokenize\n",
    "from nltk.corpus import stopwords, wordnet\n",
    "from nltk.stem import WordNetLemmatizer\n",
    "nltk.download('stopwords')\n",
    "nltk.download('averaged_perceptron_tagger')\n",
    "nltk.download('wordnet')"
   ]
  },
  {
   "cell_type": "code",
   "execution_count": 146,
   "metadata": {},
   "outputs": [],
   "source": [
    "DATA_PATH = os.path.join(\"..\", 'data')\n",
    "CORPUS_FILENAME = 'dataset-v1.pkl'\n",
    "\n",
    "CORPUS_FILE = os.path.join(DATA_PATH, CORPUS_FILENAME)"
   ]
  },
  {
   "cell_type": "markdown",
   "metadata": {},
   "source": [
    "## Import Corpus"
   ]
  },
  {
   "cell_type": "code",
   "execution_count": 147,
   "metadata": {},
   "outputs": [],
   "source": [
    "input_df = pd.read_pickle(CORPUS_FILE)"
   ]
  },
  {
   "cell_type": "code",
   "execution_count": 148,
   "metadata": {},
   "outputs": [],
   "source": [
    "# convert every issue that is not \"spam\" to \"not-spam\"\n",
    "df = pd.DataFrame(columns=['label', 'text'])\n",
    "df['label'] = input_df['labels'].apply(lambda x: 'spam' if 'spam' in x else 'not-spam')\n",
    "df['text'] = input_df['title'] + \" \" + input_df['body']"
   ]
  },
  {
   "cell_type": "markdown",
   "metadata": {},
   "source": [
    "## Preprocess\n",
    "Before analyzing the text data, it's best-practice to do pre-processing. For reference, read [this article](https://medium.com/@maleeshadesilva21/preprocessing-steps-for-natural-language-processing-nlp-a-beginners-guide-d6d9bf7689c9)\n",
    "- Stem\n",
    "- Lemmatize\n",
    "- Lowercase\n",
    "- etc"
   ]
  },
  {
   "cell_type": "markdown",
   "metadata": {},
   "source": [
    "### Define regex that will be used to clean the text"
   ]
  },
  {
   "cell_type": "code",
   "execution_count": 149,
   "metadata": {},
   "outputs": [],
   "source": [
    "code_block_pattern = r\"```([\\w\\W]*?)```\" # matches all code blocks enclosed in triple backticks ```\n",
    "code_pattern = r\"`([\\w\\W]*?)`\" # matches all code blocks enclosed in single backticks `\n",
    "url_pattern = r\"http\\S+\" # matches all urls\n",
    "new_line_pattern = r'[\\r|\\n]' # matches all new lines and carriage returns\n",
    "non_word_pattern = r'[^\\w\\s]' # matches all non-word characters (only retains alphanumeric and underscores)\n",
    "number_pattern = r'\\S*\\d+\\S*' # matches all words that contain numbers\n",
    "\n",
    "def clean(text):\n",
    "    text = re.sub(code_block_pattern, ' ', text)\n",
    "    text = re.sub(code_pattern, ' ', text)\n",
    "    text = re.sub(url_pattern, ' ', text)\n",
    "    text = re.sub(new_line_pattern, ' ', text)\n",
    "    text = re.sub(non_word_pattern, ' ', text)\n",
    "    text = re.sub(number_pattern, ' ', text)\n",
    "    return text"
   ]
  },
  {
   "cell_type": "markdown",
   "metadata": {},
   "source": [
    "### Applying lowercase for all characters and preprocessing the data\n",
    "The data is cleaned using the regex defined above"
   ]
  },
  {
   "cell_type": "code",
   "execution_count": 150,
   "metadata": {},
   "outputs": [],
   "source": [
    "df = df.map(lambda x: x.lower() if isinstance(x, str) else x)\n",
    "\n",
    "df['text'] = df['text'].apply(clean)"
   ]
  },
  {
   "cell_type": "markdown",
   "metadata": {},
   "source": [
    "### Tokenization"
   ]
  },
  {
   "cell_type": "code",
   "execution_count": 151,
   "metadata": {},
   "outputs": [],
   "source": [
    "df['text'] = df['text'].apply(word_tokenize)"
   ]
  },
  {
   "cell_type": "markdown",
   "metadata": {},
   "source": [
    "### Removing stop words"
   ]
  },
  {
   "cell_type": "code",
   "execution_count": 152,
   "metadata": {},
   "outputs": [
    {
     "data": {
      "text/html": [
       "<div>\n",
       "<style scoped>\n",
       "    .dataframe tbody tr th:only-of-type {\n",
       "        vertical-align: middle;\n",
       "    }\n",
       "\n",
       "    .dataframe tbody tr th {\n",
       "        vertical-align: top;\n",
       "    }\n",
       "\n",
       "    .dataframe thead th {\n",
       "        text-align: right;\n",
       "    }\n",
       "</style>\n",
       "<table border=\"1\" class=\"dataframe\">\n",
       "  <thead>\n",
       "    <tr style=\"text-align: right;\">\n",
       "      <th></th>\n",
       "      <th>label</th>\n",
       "      <th>text</th>\n",
       "    </tr>\n",
       "  </thead>\n",
       "  <tbody>\n",
       "    <tr>\n",
       "      <th>0</th>\n",
       "      <td>not-spam</td>\n",
       "      <td>[missing, migrations, libavif, pinned, conda, forge, pinnings, comment, debugging, strange, resolutions, boiled, c, users, straversaro, conda, create, n, test, pygame, ffmpeg, libavif, channels, robostack, staging, conda, forge, platform, win, collecting, package, metadata, repodata, json, done, solving, environment, failed, libmambaunsatisfiableerror, encountered, problems, solving, package, pygame, requires, none, providers, installed, could, solve, environment, specs, following, packages, incompatible, ffmpeg, installable, potential, options, ffmpeg, would, require, aom, installed, svt, installed, ffmpeg, would, require, aom, conflicts, installable, versions, previously, reported, ffmpeg, would, require, aom, conflicts, installable, versions, previously, reported, ffmpeg, would, require, aom, conflicts, installable, versions, previously, reported, pygame, installable, requires, viable, options, would, require, ...]</td>\n",
       "    </tr>\n",
       "    <tr>\n",
       "      <th>1</th>\n",
       "      <td>not-spam</td>\n",
       "      <td>[ui, feedback, uag, search, button, need, click, search, button, click, area, write, type, enter, keyboard, enough, understand, highlight, done, several, lenses, applied, difficult, understand, available, local, language, lack, consistency, appearance, font, capital, letters, functionality, basic]</td>\n",
       "    </tr>\n",
       "    <tr>\n",
       "      <th>2</th>\n",
       "      <td>not-spam</td>\n",
       "      <td>[issues, resolved, welcome, repository]</td>\n",
       "    </tr>\n",
       "    <tr>\n",
       "      <th>3</th>\n",
       "      <td>not-spam</td>\n",
       "      <td>[create, account, rules, broken, error, prompt]</td>\n",
       "    </tr>\n",
       "    <tr>\n",
       "      <th>4</th>\n",
       "      <td>not-spam</td>\n",
       "      <td>[nan, search, results, table, general, question, something, make, less, brittle, passing, nan, search, result, table, functions, operations, fine, seem, sensible, missing, data, values, want, easily, maintainable, robust, reasonably, process, working, discovered, nans, added, pandas, dataframe, search, result, table, broke, things, unexpected, ways, particularly, nan, datauri, got, passed, astroquery, mast, observations, get_cloud_uris, nans, get, introduced, query, columns, empty, use, pd, concat, join, tables, together, astroquery, mast, observations, outer, join, preserve, much, information, columns, possible, recent, example, example, issue, mainline, lightkurve, concatenate, dataframe, tesscut, information, main, self, table, however, main, self, table, also, lots, nans, similar, operation, concatenate, tables, astroquery, mast, observations, ...]</td>\n",
       "    </tr>\n",
       "    <tr>\n",
       "      <th>...</th>\n",
       "      <td>...</td>\n",
       "      <td>...</td>\n",
       "    </tr>\n",
       "    <tr>\n",
       "      <th>1816</th>\n",
       "      <td>spam</td>\n",
       "      <td>[want, explicit, sex, secs, ring, costs, min, gsex, pobox]</td>\n",
       "    </tr>\n",
       "    <tr>\n",
       "      <th>1817</th>\n",
       "      <td>spam</td>\n",
       "      <td>[asked, chatlines, inclu, free, mins, india, cust, servs, sed, yes, got, mega, bill, dont, giv, shit, bailiff, due, days, å, want, å]</td>\n",
       "    </tr>\n",
       "    <tr>\n",
       "      <th>1818</th>\n",
       "      <td>spam</td>\n",
       "      <td>[contract, mobile, mnths, latest, motorola, nokia, etc, free, double, mins, amp, text, orange, tariffs, text, yes, callback, remove, records]</td>\n",
       "    </tr>\n",
       "    <tr>\n",
       "      <th>1819</th>\n",
       "      <td>spam</td>\n",
       "      <td>[reminder, get, pounds, free, call, credit, details, great, offers, pls, reply, text, valid, name, house, postcode]</td>\n",
       "    </tr>\n",
       "    <tr>\n",
       "      <th>1820</th>\n",
       "      <td>spam</td>\n",
       "      <td>[time, tried, contact, u, u, å, pound, prize, claim, easy, call, per, minute, bt, national, rate]</td>\n",
       "    </tr>\n",
       "  </tbody>\n",
       "</table>\n",
       "<p>1821 rows × 2 columns</p>\n",
       "</div>"
      ],
      "text/plain": [
       "         label  \\\n",
       "0     not-spam   \n",
       "1     not-spam   \n",
       "2     not-spam   \n",
       "3     not-spam   \n",
       "4     not-spam   \n",
       "...        ...   \n",
       "1816      spam   \n",
       "1817      spam   \n",
       "1818      spam   \n",
       "1819      spam   \n",
       "1820      spam   \n",
       "\n",
       "                                                                                                                                                                                                                                                                                                                                                                                                                                                                                                                                                                                                                                                                                                                                                                                                                                                                                                                                                                     text  \n",
       "0     [missing, migrations, libavif, pinned, conda, forge, pinnings, comment, debugging, strange, resolutions, boiled, c, users, straversaro, conda, create, n, test, pygame, ffmpeg, libavif, channels, robostack, staging, conda, forge, platform, win, collecting, package, metadata, repodata, json, done, solving, environment, failed, libmambaunsatisfiableerror, encountered, problems, solving, package, pygame, requires, none, providers, installed, could, solve, environment, specs, following, packages, incompatible, ffmpeg, installable, potential, options, ffmpeg, would, require, aom, installed, svt, installed, ffmpeg, would, require, aom, conflicts, installable, versions, previously, reported, ffmpeg, would, require, aom, conflicts, installable, versions, previously, reported, ffmpeg, would, require, aom, conflicts, installable, versions, previously, reported, pygame, installable, requires, viable, options, would, require, ...]  \n",
       "1                                                                                                                                                                                                                                                                                                                                                                                                                                                                                                                                                                                                                                                              [ui, feedback, uag, search, button, need, click, search, button, click, area, write, type, enter, keyboard, enough, understand, highlight, done, several, lenses, applied, difficult, understand, available, local, language, lack, consistency, appearance, font, capital, letters, functionality, basic]  \n",
       "2                                                                                                                                                                                                                                                                                                                                                                                                                                                                                                                                                                                                                                                                                                                                                                                                                                                                                                                                 [issues, resolved, welcome, repository]  \n",
       "3                                                                                                                                                                                                                                                                                                                                                                                                                                                                                                                                                                                                                                                                                                                                                                                                                                                                                                                         [create, account, rules, broken, error, prompt]  \n",
       "4                                                                        [nan, search, results, table, general, question, something, make, less, brittle, passing, nan, search, result, table, functions, operations, fine, seem, sensible, missing, data, values, want, easily, maintainable, robust, reasonably, process, working, discovered, nans, added, pandas, dataframe, search, result, table, broke, things, unexpected, ways, particularly, nan, datauri, got, passed, astroquery, mast, observations, get_cloud_uris, nans, get, introduced, query, columns, empty, use, pd, concat, join, tables, together, astroquery, mast, observations, outer, join, preserve, much, information, columns, possible, recent, example, example, issue, mainline, lightkurve, concatenate, dataframe, tesscut, information, main, self, table, however, main, self, table, also, lots, nans, similar, operation, concatenate, tables, astroquery, mast, observations, ...]  \n",
       "...                                                                                                                                                                                                                                                                                                                                                                                                                                                                                                                                                                                                                                                                                                                                                                                                                                                                                                                                                                   ...  \n",
       "1816                                                                                                                                                                                                                                                                                                                                                                                                                                                                                                                                                                                                                                                                                                                                                                                                                                                                                                           [want, explicit, sex, secs, ring, costs, min, gsex, pobox]  \n",
       "1817                                                                                                                                                                                                                                                                                                                                                                                                                                                                                                                                                                                                                                                                                                                                                                                                                                [asked, chatlines, inclu, free, mins, india, cust, servs, sed, yes, got, mega, bill, dont, giv, shit, bailiff, due, days, å, want, å]  \n",
       "1818                                                                                                                                                                                                                                                                                                                                                                                                                                                                                                                                                                                                                                                                                                                                                                                                                        [contract, mobile, mnths, latest, motorola, nokia, etc, free, double, mins, amp, text, orange, tariffs, text, yes, callback, remove, records]  \n",
       "1819                                                                                                                                                                                                                                                                                                                                                                                                                                                                                                                                                                                                                                                                                                                                                                                                                                                  [reminder, get, pounds, free, call, credit, details, great, offers, pls, reply, text, valid, name, house, postcode]  \n",
       "1820                                                                                                                                                                                                                                                                                                                                                                                                                                                                                                                                                                                                                                                                                                                                                                                                                                                                    [time, tried, contact, u, u, å, pound, prize, claim, easy, call, per, minute, bt, national, rate]  \n",
       "\n",
       "[1821 rows x 2 columns]"
      ]
     },
     "execution_count": 152,
     "metadata": {},
     "output_type": "execute_result"
    }
   ],
   "source": [
    "stop_words = set(stopwords.words('english'))\n",
    "df['text'] = df['text'].apply(lambda x: [word for word in x if word not in stop_words])\n",
    "df"
   ]
  },
  {
   "cell_type": "markdown",
   "metadata": {},
   "source": [
    "### Lemmatization"
   ]
  },
  {
   "cell_type": "code",
   "execution_count": 154,
   "metadata": {},
   "outputs": [
    {
     "data": {
      "text/html": [
       "<div>\n",
       "<style scoped>\n",
       "    .dataframe tbody tr th:only-of-type {\n",
       "        vertical-align: middle;\n",
       "    }\n",
       "\n",
       "    .dataframe tbody tr th {\n",
       "        vertical-align: top;\n",
       "    }\n",
       "\n",
       "    .dataframe thead th {\n",
       "        text-align: right;\n",
       "    }\n",
       "</style>\n",
       "<table border=\"1\" class=\"dataframe\">\n",
       "  <thead>\n",
       "    <tr style=\"text-align: right;\">\n",
       "      <th></th>\n",
       "      <th>label</th>\n",
       "      <th>text</th>\n",
       "      <th>lemmatized_text</th>\n",
       "    </tr>\n",
       "  </thead>\n",
       "  <tbody>\n",
       "    <tr>\n",
       "      <th>0</th>\n",
       "      <td>not-spam</td>\n",
       "      <td>[missing, migrations, libavif, pinned, conda, forge, pinnings, comment, debugging, strange, resolutions, boiled, c, users, straversaro, conda, create, n, test, pygame, ffmpeg, libavif, channels, robostack, staging, conda, forge, platform, win, collecting, package, metadata, repodata, json, done, solving, environment, failed, libmambaunsatisfiableerror, encountered, problems, solving, package, pygame, requires, none, providers, installed, could, solve, environment, specs, following, packages, incompatible, ffmpeg, installable, potential, options, ffmpeg, would, require, aom, installed, svt, installed, ffmpeg, would, require, aom, conflicts, installable, versions, previously, reported, ffmpeg, would, require, aom, conflicts, installable, versions, previously, reported, ffmpeg, would, require, aom, conflicts, installable, versions, previously, reported, pygame, installable, requires, viable, options, would, require, ...]</td>\n",
       "      <td>[miss, migration, libavif, pin, conda, forge, pinning, comment, debug, strange, resolution, boil, c, user, straversaro, conda, create, n, test, pygame, ffmpeg, libavif, channel, robostack, stag, conda, forge, platform, win, collect, package, metadata, repodata, json, do, solve, environment, fail, libmambaunsatisfiableerror, encounter, problem, solve, package, pygame, require, none, provider, instal, could, solve, environment, spec, follow, package, incompatible, ffmpeg, installable, potential, option, ffmpeg, would, require, aom, instal, svt, instal, ffmpeg, would, require, aom, conflict, installable, version, previously, report, ffmpeg, would, require, aom, conflict, installable, version, previously, report, ffmpeg, would, require, aom, conflict, installable, version, previously, report, pygame, installable, require, viable, option, would, require, ...]</td>\n",
       "    </tr>\n",
       "    <tr>\n",
       "      <th>1</th>\n",
       "      <td>not-spam</td>\n",
       "      <td>[ui, feedback, uag, search, button, need, click, search, button, click, area, write, type, enter, keyboard, enough, understand, highlight, done, several, lenses, applied, difficult, understand, available, local, language, lack, consistency, appearance, font, capital, letters, functionality, basic]</td>\n",
       "      <td>[ui, feedback, uag, search, button, need, click, search, button, click, area, write, type, enter, keyboard, enough, understand, highlight, do, several, lens, apply, difficult, understand, available, local, language, lack, consistency, appearance, font, capital, letter, functionality, basic]</td>\n",
       "    </tr>\n",
       "    <tr>\n",
       "      <th>2</th>\n",
       "      <td>not-spam</td>\n",
       "      <td>[issues, resolved, welcome, repository]</td>\n",
       "      <td>[issue, resolve, welcome, repository]</td>\n",
       "    </tr>\n",
       "    <tr>\n",
       "      <th>3</th>\n",
       "      <td>not-spam</td>\n",
       "      <td>[create, account, rules, broken, error, prompt]</td>\n",
       "      <td>[create, account, rule, broken, error, prompt]</td>\n",
       "    </tr>\n",
       "    <tr>\n",
       "      <th>4</th>\n",
       "      <td>not-spam</td>\n",
       "      <td>[nan, search, results, table, general, question, something, make, less, brittle, passing, nan, search, result, table, functions, operations, fine, seem, sensible, missing, data, values, want, easily, maintainable, robust, reasonably, process, working, discovered, nans, added, pandas, dataframe, search, result, table, broke, things, unexpected, ways, particularly, nan, datauri, got, passed, astroquery, mast, observations, get_cloud_uris, nans, get, introduced, query, columns, empty, use, pd, concat, join, tables, together, astroquery, mast, observations, outer, join, preserve, much, information, columns, possible, recent, example, example, issue, mainline, lightkurve, concatenate, dataframe, tesscut, information, main, self, table, however, main, self, table, also, lots, nans, similar, operation, concatenate, tables, astroquery, mast, observations, ...]</td>\n",
       "      <td>[nan, search, result, table, general, question, something, make, less, brittle, passing, nan, search, result, table, function, operation, fine, seem, sensible, miss, data, value, want, easily, maintainable, robust, reasonably, process, work, discover, nan, add, panda, dataframe, search, result, table, broke, thing, unexpected, way, particularly, nan, datauri, get, pass, astroquery, mast, observation, get_cloud_uris, nan, get, introduce, query, column, empty, use, pd, concat, join, table, together, astroquery, mast, observation, outer, join, preserve, much, information, column, possible, recent, example, example, issue, mainline, lightkurve, concatenate, dataframe, tesscut, information, main, self, table, however, main, self, table, also, lot, nan, similar, operation, concatenate, table, astroquery, mast, observation, ...]</td>\n",
       "    </tr>\n",
       "    <tr>\n",
       "      <th>...</th>\n",
       "      <td>...</td>\n",
       "      <td>...</td>\n",
       "      <td>...</td>\n",
       "    </tr>\n",
       "    <tr>\n",
       "      <th>1816</th>\n",
       "      <td>spam</td>\n",
       "      <td>[want, explicit, sex, secs, ring, costs, min, gsex, pobox]</td>\n",
       "      <td>[want, explicit, sex, sec, ring, cost, min, gsex, pobox]</td>\n",
       "    </tr>\n",
       "    <tr>\n",
       "      <th>1817</th>\n",
       "      <td>spam</td>\n",
       "      <td>[asked, chatlines, inclu, free, mins, india, cust, servs, sed, yes, got, mega, bill, dont, giv, shit, bailiff, due, days, å, want, å]</td>\n",
       "      <td>[ask, chatlines, inclu, free, min, india, cust, servs, sed, yes, get, mega, bill, dont, giv, shit, bailiff, due, day, å, want, å]</td>\n",
       "    </tr>\n",
       "    <tr>\n",
       "      <th>1818</th>\n",
       "      <td>spam</td>\n",
       "      <td>[contract, mobile, mnths, latest, motorola, nokia, etc, free, double, mins, amp, text, orange, tariffs, text, yes, callback, remove, records]</td>\n",
       "      <td>[contract, mobile, mnths, late, motorola, nokia, etc, free, double, min, amp, text, orange, tariff, text, yes, callback, remove, record]</td>\n",
       "    </tr>\n",
       "    <tr>\n",
       "      <th>1819</th>\n",
       "      <td>spam</td>\n",
       "      <td>[reminder, get, pounds, free, call, credit, details, great, offers, pls, reply, text, valid, name, house, postcode]</td>\n",
       "      <td>[reminder, get, pound, free, call, credit, detail, great, offer, pls, reply, text, valid, name, house, postcode]</td>\n",
       "    </tr>\n",
       "    <tr>\n",
       "      <th>1820</th>\n",
       "      <td>spam</td>\n",
       "      <td>[time, tried, contact, u, u, å, pound, prize, claim, easy, call, per, minute, bt, national, rate]</td>\n",
       "      <td>[time, try, contact, u, u, å, pound, prize, claim, easy, call, per, minute, bt, national, rate]</td>\n",
       "    </tr>\n",
       "  </tbody>\n",
       "</table>\n",
       "<p>1821 rows × 3 columns</p>\n",
       "</div>"
      ],
      "text/plain": [
       "         label  \\\n",
       "0     not-spam   \n",
       "1     not-spam   \n",
       "2     not-spam   \n",
       "3     not-spam   \n",
       "4     not-spam   \n",
       "...        ...   \n",
       "1816      spam   \n",
       "1817      spam   \n",
       "1818      spam   \n",
       "1819      spam   \n",
       "1820      spam   \n",
       "\n",
       "                                                                                                                                                                                                                                                                                                                                                                                                                                                                                                                                                                                                                                                                                                                                                                                                                                                                                                                                                                     text  \\\n",
       "0     [missing, migrations, libavif, pinned, conda, forge, pinnings, comment, debugging, strange, resolutions, boiled, c, users, straversaro, conda, create, n, test, pygame, ffmpeg, libavif, channels, robostack, staging, conda, forge, platform, win, collecting, package, metadata, repodata, json, done, solving, environment, failed, libmambaunsatisfiableerror, encountered, problems, solving, package, pygame, requires, none, providers, installed, could, solve, environment, specs, following, packages, incompatible, ffmpeg, installable, potential, options, ffmpeg, would, require, aom, installed, svt, installed, ffmpeg, would, require, aom, conflicts, installable, versions, previously, reported, ffmpeg, would, require, aom, conflicts, installable, versions, previously, reported, ffmpeg, would, require, aom, conflicts, installable, versions, previously, reported, pygame, installable, requires, viable, options, would, require, ...]   \n",
       "1                                                                                                                                                                                                                                                                                                                                                                                                                                                                                                                                                                                                                                                              [ui, feedback, uag, search, button, need, click, search, button, click, area, write, type, enter, keyboard, enough, understand, highlight, done, several, lenses, applied, difficult, understand, available, local, language, lack, consistency, appearance, font, capital, letters, functionality, basic]   \n",
       "2                                                                                                                                                                                                                                                                                                                                                                                                                                                                                                                                                                                                                                                                                                                                                                                                                                                                                                                                 [issues, resolved, welcome, repository]   \n",
       "3                                                                                                                                                                                                                                                                                                                                                                                                                                                                                                                                                                                                                                                                                                                                                                                                                                                                                                                         [create, account, rules, broken, error, prompt]   \n",
       "4                                                                        [nan, search, results, table, general, question, something, make, less, brittle, passing, nan, search, result, table, functions, operations, fine, seem, sensible, missing, data, values, want, easily, maintainable, robust, reasonably, process, working, discovered, nans, added, pandas, dataframe, search, result, table, broke, things, unexpected, ways, particularly, nan, datauri, got, passed, astroquery, mast, observations, get_cloud_uris, nans, get, introduced, query, columns, empty, use, pd, concat, join, tables, together, astroquery, mast, observations, outer, join, preserve, much, information, columns, possible, recent, example, example, issue, mainline, lightkurve, concatenate, dataframe, tesscut, information, main, self, table, however, main, self, table, also, lots, nans, similar, operation, concatenate, tables, astroquery, mast, observations, ...]   \n",
       "...                                                                                                                                                                                                                                                                                                                                                                                                                                                                                                                                                                                                                                                                                                                                                                                                                                                                                                                                                                   ...   \n",
       "1816                                                                                                                                                                                                                                                                                                                                                                                                                                                                                                                                                                                                                                                                                                                                                                                                                                                                                                           [want, explicit, sex, secs, ring, costs, min, gsex, pobox]   \n",
       "1817                                                                                                                                                                                                                                                                                                                                                                                                                                                                                                                                                                                                                                                                                                                                                                                                                                [asked, chatlines, inclu, free, mins, india, cust, servs, sed, yes, got, mega, bill, dont, giv, shit, bailiff, due, days, å, want, å]   \n",
       "1818                                                                                                                                                                                                                                                                                                                                                                                                                                                                                                                                                                                                                                                                                                                                                                                                                        [contract, mobile, mnths, latest, motorola, nokia, etc, free, double, mins, amp, text, orange, tariffs, text, yes, callback, remove, records]   \n",
       "1819                                                                                                                                                                                                                                                                                                                                                                                                                                                                                                                                                                                                                                                                                                                                                                                                                                                  [reminder, get, pounds, free, call, credit, details, great, offers, pls, reply, text, valid, name, house, postcode]   \n",
       "1820                                                                                                                                                                                                                                                                                                                                                                                                                                                                                                                                                                                                                                                                                                                                                                                                                                                                    [time, tried, contact, u, u, å, pound, prize, claim, easy, call, per, minute, bt, national, rate]   \n",
       "\n",
       "                                                                                                                                                                                                                                                                                                                                                                                                                                                                                                                                                                                                                                                                                                                                                                                                                                                                                         lemmatized_text  \n",
       "0     [miss, migration, libavif, pin, conda, forge, pinning, comment, debug, strange, resolution, boil, c, user, straversaro, conda, create, n, test, pygame, ffmpeg, libavif, channel, robostack, stag, conda, forge, platform, win, collect, package, metadata, repodata, json, do, solve, environment, fail, libmambaunsatisfiableerror, encounter, problem, solve, package, pygame, require, none, provider, instal, could, solve, environment, spec, follow, package, incompatible, ffmpeg, installable, potential, option, ffmpeg, would, require, aom, instal, svt, instal, ffmpeg, would, require, aom, conflict, installable, version, previously, report, ffmpeg, would, require, aom, conflict, installable, version, previously, report, ffmpeg, would, require, aom, conflict, installable, version, previously, report, pygame, installable, require, viable, option, would, require, ...]  \n",
       "1                                                                                                                                                                                                                                                                                                                                                                                                                                                                                                                                                                                                    [ui, feedback, uag, search, button, need, click, search, button, click, area, write, type, enter, keyboard, enough, understand, highlight, do, several, lens, apply, difficult, understand, available, local, language, lack, consistency, appearance, font, capital, letter, functionality, basic]  \n",
       "2                                                                                                                                                                                                                                                                                                                                                                                                                                                                                                                                                                                                                                                                                                                                                                                                                                                                  [issue, resolve, welcome, repository]  \n",
       "3                                                                                                                                                                                                                                                                                                                                                                                                                                                                                                                                                                                                                                                                                                                                                                                                                                                         [create, account, rule, broken, error, prompt]  \n",
       "4                                      [nan, search, result, table, general, question, something, make, less, brittle, passing, nan, search, result, table, function, operation, fine, seem, sensible, miss, data, value, want, easily, maintainable, robust, reasonably, process, work, discover, nan, add, panda, dataframe, search, result, table, broke, thing, unexpected, way, particularly, nan, datauri, get, pass, astroquery, mast, observation, get_cloud_uris, nan, get, introduce, query, column, empty, use, pd, concat, join, table, together, astroquery, mast, observation, outer, join, preserve, much, information, column, possible, recent, example, example, issue, mainline, lightkurve, concatenate, dataframe, tesscut, information, main, self, table, however, main, self, table, also, lot, nan, similar, operation, concatenate, table, astroquery, mast, observation, ...]  \n",
       "...                                                                                                                                                                                                                                                                                                                                                                                                                                                                                                                                                                                                                                                                                                                                                                                                                                                                                                  ...  \n",
       "1816                                                                                                                                                                                                                                                                                                                                                                                                                                                                                                                                                                                                                                                                                                                                                                                                                                            [want, explicit, sex, sec, ring, cost, min, gsex, pobox]  \n",
       "1817                                                                                                                                                                                                                                                                                                                                                                                                                                                                                                                                                                                                                                                                                                                                                                   [ask, chatlines, inclu, free, min, india, cust, servs, sed, yes, get, mega, bill, dont, giv, shit, bailiff, due, day, å, want, å]  \n",
       "1818                                                                                                                                                                                                                                                                                                                                                                                                                                                                                                                                                                                                                                                                                                                                                            [contract, mobile, mnths, late, motorola, nokia, etc, free, double, min, amp, text, orange, tariff, text, yes, callback, remove, record]  \n",
       "1819                                                                                                                                                                                                                                                                                                                                                                                                                                                                                                                                                                                                                                                                                                                                                                                    [reminder, get, pound, free, call, credit, detail, great, offer, pls, reply, text, valid, name, house, postcode]  \n",
       "1820                                                                                                                                                                                                                                                                                                                                                                                                                                                                                                                                                                                                                                                                                                                                                                                                     [time, try, contact, u, u, å, pound, prize, claim, easy, call, per, minute, bt, national, rate]  \n",
       "\n",
       "[1821 rows x 3 columns]"
      ]
     },
     "execution_count": 154,
     "metadata": {},
     "output_type": "execute_result"
    }
   ],
   "source": [
    "lemmatizer = WordNetLemmatizer()\n",
    "\n",
    "# define function to lemmatize tokens\n",
    "def lemmatize_tokens(tokens):\n",
    "    # convert POS tag to WordNet format\n",
    "    def get_wordnet_pos(word):\n",
    "        tag = nltk.pos_tag([word])[0][1][0].upper()\n",
    "        tag_dict = {\"J\": wordnet.ADJ,\n",
    "                    \"N\": wordnet.NOUN,\n",
    "                    \"V\": wordnet.VERB,\n",
    "                    \"R\": wordnet.ADV}\n",
    "        return tag_dict.get(tag, wordnet.NOUN)\n",
    "    \n",
    "    # lemmatize tokens\n",
    "    lemmas = [lemmatizer.lemmatize(token, get_wordnet_pos(token)) for token in tokens]\n",
    "    \n",
    "    # return lemmatized tokens as a list\n",
    "    return lemmas\n",
    "    \n",
    "\n",
    "# apply lemmatization function to column of dataframe\n",
    "df['lemmatized_text'] = df['text'].apply(lemmatize_tokens)"
   ]
  },
  {
   "cell_type": "markdown",
   "metadata": {},
   "source": [
    "## Statistics\n",
    "We can learn a lot about our text data through standard statistical metrics. For reference, read [this article](https://neptune.ai/blog/exploratory-data-analysis-natural-language-processing-tools). Compute each statistic individually for spam and not-spam issues\n",
    "- Type-token ratio\n",
    "- etc "
   ]
  },
  {
   "cell_type": "code",
   "execution_count": null,
   "metadata": {},
   "outputs": [],
   "source": []
  },
  {
   "cell_type": "markdown",
   "metadata": {},
   "source": [
    "## Visualizations\n",
    "Visualize each of the following individually for spam and not-spam issues. [Reference](https://medium.com/@melody.zapotoczny/a-quick-easy-guide-to-text-analysis-seaborn-4c1a20addba3)\n",
    "- Most frequent unigrams (words), bigrams(pairs of words), trigrams\n",
    "- Average issue content (issue title + issue body) length\n",
    "- Histogram of issue content length"
   ]
  },
  {
   "cell_type": "code",
   "execution_count": null,
   "metadata": {},
   "outputs": [],
   "source": []
  }
 ],
 "metadata": {
  "kernelspec": {
   "display_name": "venv",
   "language": "python",
   "name": "python3"
  },
  "language_info": {
   "codemirror_mode": {
    "name": "ipython",
    "version": 3
   },
   "file_extension": ".py",
   "mimetype": "text/x-python",
   "name": "python",
   "nbconvert_exporter": "python",
   "pygments_lexer": "ipython3",
   "version": "3.11.2"
  }
 },
 "nbformat": 4,
 "nbformat_minor": 2
}
