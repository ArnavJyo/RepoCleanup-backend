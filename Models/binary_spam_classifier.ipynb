{
 "cells": [
  {
   "cell_type": "markdown",
   "metadata": {},
   "source": [
    "# Binary Spam Classifier\n",
    "The purpose of this notebook is to train scikit-learn binary spam classification models on the full corpus for deployment.\n"
   ]
  },
  {
   "cell_type": "code",
   "execution_count": 1,
   "metadata": {},
   "outputs": [],
   "source": [
    "import pandas as pd\n",
    "from sklearn.model_selection import KFold\n",
    "from sklearn.metrics import accuracy_score\n",
    "import numpy as np\n",
    "import requests\n",
    "from sklearn.linear_model import LogisticRegression\n",
    "from sklearn.naive_bayes import GaussianNB\n",
    "from sklearn.neighbors import KNeighborsClassifier\n",
    "from sklearn.neural_network import MLPClassifier\n",
    "from sklearn.ensemble import RandomForestClassifier\n",
    "from sklearn.tree import DecisionTreeClassifier\n",
    "\n",
    "from sklearn.feature_extraction.text import CountVectorizer\n",
    "from sklearn.feature_extraction.text import TfidfVectorizer\n",
    "from sklearn.feature_extraction.text import HashingVectorizer\n",
    "\n",
    "from sklearn.metrics import accuracy_score, precision_score, recall_score, f1_score\n",
    "from scipy.sparse import issparse\n",
    "from sklearn.pipeline import Pipeline\n",
    "\n",
    "\n",
    "from dotenv import load_dotenv\n",
    "import os\n",
    "import mlflow\n",
    "import mlflow.sklearn\n",
    "import joblib\n",
    "import time\n",
    "\n",
    "import nltk\n",
    "# nltk.download('stopwords')\n",
    "from nltk.corpus import stopwords\n",
    "import string"
   ]
  },
  {
   "cell_type": "code",
   "execution_count": 2,
   "metadata": {},
   "outputs": [],
   "source": [
    "RANDOM_STATE = 123"
   ]
  },
  {
   "cell_type": "markdown",
   "metadata": {},
   "source": [
    "## Import Data"
   ]
  },
  {
   "cell_type": "code",
   "execution_count": 3,
   "metadata": {},
   "outputs": [],
   "source": [
    "DATASET_FILENAME = \"dataset-v2.pkl\"\n",
    "DATA_PATH = os.path.join(\"..\", \"data\", DATASET_FILENAME)"
   ]
  },
  {
   "cell_type": "code",
   "execution_count": 4,
   "metadata": {},
   "outputs": [
    {
     "data": {
      "text/html": [
       "<div>\n",
       "<style scoped>\n",
       "    .dataframe tbody tr th:only-of-type {\n",
       "        vertical-align: middle;\n",
       "    }\n",
       "\n",
       "    .dataframe tbody tr th {\n",
       "        vertical-align: top;\n",
       "    }\n",
       "\n",
       "    .dataframe thead th {\n",
       "        text-align: right;\n",
       "    }\n",
       "</style>\n",
       "<table border=\"1\" class=\"dataframe\">\n",
       "  <thead>\n",
       "    <tr style=\"text-align: right;\">\n",
       "      <th></th>\n",
       "      <th>id</th>\n",
       "      <th>url</th>\n",
       "      <th>author</th>\n",
       "      <th>title</th>\n",
       "      <th>body</th>\n",
       "      <th>labels</th>\n",
       "    </tr>\n",
       "  </thead>\n",
       "  <tbody>\n",
       "    <tr>\n",
       "      <th>0</th>\n",
       "      <td>2172615896</td>\n",
       "      <td>https://api.github.com/repos/lindsaypj/portfol...</td>\n",
       "      <td>lindsaypj</td>\n",
       "      <td>Clicking accordion topic updates terminal text...</td>\n",
       "      <td></td>\n",
       "      <td>[bug, pending MERGE]</td>\n",
       "    </tr>\n",
       "    <tr>\n",
       "      <th>1</th>\n",
       "      <td>2320286757</td>\n",
       "      <td>https://api.github.com/repos/JosefNemec/Playni...</td>\n",
       "      <td>fm-117</td>\n",
       "      <td>[IGDB Metadata] Some games cannot be found</td>\n",
       "      <td>When looking for metadata using the IGDB searc...</td>\n",
       "      <td>[bug]</td>\n",
       "    </tr>\n",
       "    <tr>\n",
       "      <th>2</th>\n",
       "      <td>2242364830</td>\n",
       "      <td>https://api.github.com/repos/nomicflux/scrpg-h...</td>\n",
       "      <td>nomicflux</td>\n",
       "      <td>EnergyChoice needs to handle Physical for Powe...</td>\n",
       "      <td></td>\n",
       "      <td>[bug, enhancement]</td>\n",
       "    </tr>\n",
       "    <tr>\n",
       "      <th>3</th>\n",
       "      <td>2309230756</td>\n",
       "      <td>https://api.github.com/repos/fluentcms/FluentC...</td>\n",
       "      <td>pournasserian</td>\n",
       "      <td>Why should we have `StopPropagation` property ...</td>\n",
       "      <td></td>\n",
       "      <td>[enhancement, question]</td>\n",
       "    </tr>\n",
       "    <tr>\n",
       "      <th>4</th>\n",
       "      <td>2229948881</td>\n",
       "      <td>https://api.github.com/repos/hpsaturn/ESPNowCa...</td>\n",
       "      <td>beniroquai</td>\n",
       "      <td>Many-to-one connection</td>\n",
       "      <td>Hey @hpsaturn, I stumbled upon your project wh...</td>\n",
       "      <td>[enhancement, question]</td>\n",
       "    </tr>\n",
       "  </tbody>\n",
       "</table>\n",
       "</div>"
      ],
      "text/plain": [
       "           id                                                url  \\\n",
       "0  2172615896  https://api.github.com/repos/lindsaypj/portfol...   \n",
       "1  2320286757  https://api.github.com/repos/JosefNemec/Playni...   \n",
       "2  2242364830  https://api.github.com/repos/nomicflux/scrpg-h...   \n",
       "3  2309230756  https://api.github.com/repos/fluentcms/FluentC...   \n",
       "4  2229948881  https://api.github.com/repos/hpsaturn/ESPNowCa...   \n",
       "\n",
       "          author                                              title  \\\n",
       "0      lindsaypj  Clicking accordion topic updates terminal text...   \n",
       "1         fm-117         [IGDB Metadata] Some games cannot be found   \n",
       "2      nomicflux  EnergyChoice needs to handle Physical for Powe...   \n",
       "3  pournasserian  Why should we have `StopPropagation` property ...   \n",
       "4     beniroquai                             Many-to-one connection   \n",
       "\n",
       "                                                body                   labels  \n",
       "0                                                        [bug, pending MERGE]  \n",
       "1  When looking for metadata using the IGDB searc...                    [bug]  \n",
       "2                                                          [bug, enhancement]  \n",
       "3                                                     [enhancement, question]  \n",
       "4  Hey @hpsaturn, I stumbled upon your project wh...  [enhancement, question]  "
      ]
     },
     "execution_count": 4,
     "metadata": {},
     "output_type": "execute_result"
    }
   ],
   "source": [
    "df = pd.read_pickle(DATA_PATH)\n",
    "df.head()"
   ]
  },
  {
   "cell_type": "markdown",
   "metadata": {},
   "source": [
    "## Preprocess data\n",
    "- Split the input features (issue content) and target feature (label)\n",
    "- For binary classification, convert all non-\"spam\" issues into \"not-spam\""
   ]
  },
  {
   "cell_type": "code",
   "execution_count": 5,
   "metadata": {},
   "outputs": [],
   "source": [
    "X = df['title'] + ' ' + df['body']\n",
    "y = df['labels'].apply(lambda x: 'spam' if 'spam' in x else 'not-spam')"
   ]
  },
  {
   "cell_type": "markdown",
   "metadata": {},
   "source": [
    "## Config MLflow"
   ]
  },
  {
   "cell_type": "code",
   "execution_count": 6,
   "metadata": {},
   "outputs": [
    {
     "name": "stdout",
     "output_type": "stream",
     "text": [
      "Experiment ID: 2\n",
      "Experiment Name: binary_classifier_corpus_2\n"
     ]
    }
   ],
   "source": [
    "EXPERIMENT_NAME = \"binary_classifier_corpus_2\"\n",
    "mlflow.set_tracking_uri(\"http://localhost:5000\")\n",
    "mlflow.set_experiment(experiment_name=EXPERIMENT_NAME)\n",
    "experiment = mlflow.get_experiment_by_name(EXPERIMENT_NAME)\n",
    "\n",
    "EXPERIMENT_ID = experiment.experiment_id\n",
    "RUN_UID = str(int(time.time()))\n",
    "\n",
    "print(\"Experiment ID:\",EXPERIMENT_ID)\n",
    "print(\"Experiment Name:\", EXPERIMENT_NAME)\n"
   ]
  },
  {
   "cell_type": "markdown",
   "metadata": {},
   "source": [
    "## Define Models\n",
    "- Use statistical models and a simple neural network for variety\n",
    "- Notice that we are not using SVC due to computational cost\n",
    "- Save the models in a dictionary with their corresponding hyperparameters for easier indexing"
   ]
  },
  {
   "cell_type": "code",
   "execution_count": 7,
   "metadata": {},
   "outputs": [],
   "source": [
    "logreg_hyperparameters = {\n",
    "    'penalty': 'l2',\n",
    "    'solver': 'lbfgs',\n",
    "    'random_state': RANDOM_STATE\n",
    "}\n",
    "nn_hyperparameters = {\n",
    "    'learning_rate': 'adaptive',\n",
    "    'alpha': 0.0001,\n",
    "    'max_iter': 1000,\n",
    "    'activation': 'relu',\n",
    "    'solver': 'adam',\n",
    "    'random_state': RANDOM_STATE\n",
    "}\n",
    "rf_hyperparameters = {\n",
    "    'max_depth': None,\n",
    "    'n_estimators': 100, \n",
    "    'max_features': 'sqrt',\n",
    "    'random_state': RANDOM_STATE\n",
    "}\n",
    "\n",
    "logreg = LogisticRegression(**logreg_hyperparameters)\n",
    "nb = GaussianNB()\n",
    "knn = KNeighborsClassifier(n_neighbors=5)\n",
    "nn = MLPClassifier(**nn_hyperparameters)\n",
    "rf = RandomForestClassifier(**rf_hyperparameters)\n",
    "\n",
    "models = {\"logreg\": logreg, \"nb\": nb, \"knn\": knn, \"nn\": nn, \"rf\": rf}"
   ]
  },
  {
   "cell_type": "markdown",
   "metadata": {},
   "source": [
    "## Define Vectorizers\n",
    "- Text input must be converted into numerical input (vectors) before classification\n",
    "- For computational efficiency, we'll use non-neural vectorizers Bag-of-Words and TFIDF"
   ]
  },
  {
   "cell_type": "code",
   "execution_count": 8,
   "metadata": {},
   "outputs": [],
   "source": [
    "STOP_WORDS = set(stopwords.words('english') + list(string.punctuation))\n",
    "STOP_WORDS = list(STOP_WORDS)\n",
    "\n",
    "vectorizer_params = {\n",
    "    'ngram_range': (1,3),\n",
    "    'lowercase': True,\n",
    "    'min_df': 5,\n",
    "    'max_features': 100000\n",
    "}\n",
    "count_vectorizer = CountVectorizer(stop_words=STOP_WORDS, **vectorizer_params) # Bag-of-Words vectorizer\n",
    "tfidf_vectorizer = TfidfVectorizer(stop_words=STOP_WORDS, **vectorizer_params)\n",
    "\n",
    "vectorizers = {\"count_vectorizer\": count_vectorizer, \"tfidf_vectorizer\": tfidf_vectorizer}"
   ]
  },
  {
   "cell_type": "markdown",
   "metadata": {},
   "source": [
    "## Train Model On Full Dataset\n",
    "- Select the best performing classifier-vectorizer model pair from the experiments\n",
    "- Save as pipeline in MLflow artifacts folder"
   ]
  },
  {
   "cell_type": "code",
   "execution_count": 10,
   "metadata": {},
   "outputs": [],
   "source": [
    "def train_and_log_model(X, y, model, model_name, model_params, vectorizer, vectorizer_name):\n",
    "    registered_model_name = f\"{model_name}_{vectorizer_name}\"\n",
    "    run_name = f\"{registered_model_name}_{RUN_UID}\"\n",
    "\n",
    "    pipeline = Pipeline([\n",
    "        ('vectorizer', vectorizer),\n",
    "        ('model', model)\n",
    "    ])\n",
    "\n",
    "    pipeline.fit(X, y)\n",
    "    run_id = None\n",
    "\n",
    "    with mlflow.start_run(experiment_id=EXPERIMENT_ID, run_name=run_name) as run:\n",
    "        # Log model\n",
    "        mlflow.sklearn.log_model(pipeline, model_name, registered_model_name=registered_model_name)\n",
    "\n",
    "        # Log model parameters\n",
    "        model_params = model.get_params()\n",
    "        mlflow.log_params(model_params)\n",
    "        mlflow.log_param(\"model_name\", model_name)\n",
    "        mlflow.log_param(\"vectorizer_name\", vectorizer_name)\n",
    "\n",
    "        run_id = run.info.run_id\n",
    "\n",
    "    mlflow.end_run()\n",
    "    return run_id"
   ]
  },
  {
   "cell_type": "code",
   "execution_count": 11,
   "metadata": {},
   "outputs": [
    {
     "name": "stderr",
     "output_type": "stream",
     "text": [
      "2024/06/19 12:51:56 WARNING mlflow.utils.git_utils: Failed to import Git (the Git executable is probably not on your PATH), so Git SHA is not available. Error: Failed to initialize: Bad git executable.\n",
      "The git executable must be specified in one of the following ways:\n",
      "    - be included in your $PATH\n",
      "    - be set via $GIT_PYTHON_GIT_EXECUTABLE\n",
      "    - explicitly set via git.refresh(<full-path-to-git-executable>)\n",
      "\n",
      "All git commands will error until this is rectified.\n",
      "\n",
      "This initial message can be silenced or aggravated in the future by setting the\n",
      "$GIT_PYTHON_REFRESH environment variable. Use one of the following values:\n",
      "    - quiet|q|silence|s|silent|none|n|0: for no message or exception\n",
      "    - warn|w|warning|log|l|1: for a warning message (logging level CRITICAL, displayed by default)\n",
      "    - error|e|exception|raise|r|2: for a raised exception\n",
      "\n",
      "Example:\n",
      "    export GIT_PYTHON_REFRESH=quiet\n",
      "\n",
      "Registered model 'nn_tfidf_vectorizer' already exists. Creating a new version of this model...\n",
      "2024/06/19 12:52:16 INFO mlflow.store.model_registry.abstract_store: Waiting up to 300 seconds for model version to finish creation. Model name: nn_tfidf_vectorizer, version 4\n",
      "Created version '4' of model 'nn_tfidf_vectorizer'.\n"
     ]
    }
   ],
   "source": [
    "model_params = {\n",
    "    'model': nn,\n",
    "    'model_name': 'nn',\n",
    "    'model_params': nn_hyperparameters\n",
    "}\n",
    "vectorizer_params = {\n",
    "    'vectorizer': tfidf_vectorizer,\n",
    "    'vectorizer_name': 'tfidf_vectorizer'\n",
    "}\n",
    "run_id = train_and_log_model(X, y, **model_params, **vectorizer_params)"
   ]
  },
  {
   "cell_type": "markdown",
   "metadata": {},
   "source": [
    "## Import and run the classifier\n",
    "- Import the binary classifier as a pickle file from mlartifacts\n",
    "- Run predictions using `.predict()`"
   ]
  },
  {
   "cell_type": "code",
   "execution_count": 12,
   "metadata": {},
   "outputs": [
    {
     "name": "stdout",
     "output_type": "stream",
     "text": [
      "mlartifacts\\2\\0579ea92a6c7494e9bfdf42813fe3867\\artifacts\\nn\\model.pkl\n"
     ]
    }
   ],
   "source": [
    "model_uri = os.path.join('mlartifacts', EXPERIMENT_ID, run_id, 'artifacts', model_params['model_name'], 'model.pkl')\n",
    "print(model_uri)\n",
    "binary_classifier = joblib.load(model_uri)"
   ]
  },
  {
   "cell_type": "code",
   "execution_count": 21,
   "metadata": {},
   "outputs": [
    {
     "data": {
      "text/plain": [
       "'not-spam'"
      ]
     },
     "execution_count": 21,
     "metadata": {},
     "output_type": "execute_result"
    }
   ],
   "source": [
    "SAMPLE_SPAM_TEXT = \"please fix\"\n",
    "spam_prediction = binary_classifier.predict([SAMPLE_SPAM_TEXT])[0]\n",
    "spam_prediction"
   ]
  },
  {
   "cell_type": "code",
   "execution_count": null,
   "metadata": {},
   "outputs": [],
   "source": []
  }
 ],
 "metadata": {
  "kernelspec": {
   "display_name": "venv",
   "language": "python",
   "name": "python3"
  },
  "language_info": {
   "codemirror_mode": {
    "name": "ipython",
    "version": 3
   },
   "file_extension": ".py",
   "mimetype": "text/x-python",
   "name": "python",
   "nbconvert_exporter": "python",
   "pygments_lexer": "ipython3",
   "version": "3.11.6"
  }
 },
 "nbformat": 4,
 "nbformat_minor": 2
}
