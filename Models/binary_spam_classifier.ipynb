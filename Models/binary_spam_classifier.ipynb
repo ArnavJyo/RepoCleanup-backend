{
 "cells": [
  {
   "cell_type": "markdown",
   "metadata": {},
   "source": [
    "# Binary Spam Classifier\n",
    "The purpose of this notebook is to evaluate scikit-learn models for binary spam classification.\n"
   ]
  },
  {
   "cell_type": "code",
   "execution_count": 1,
   "metadata": {},
   "outputs": [],
   "source": [
    "import pandas as pd\n",
    "from sklearn.model_selection import KFold\n",
    "from sklearn.metrics import accuracy_score\n",
    "import numpy as np\n",
    "import requests\n",
    "from sklearn.linear_model import LogisticRegression\n",
    "from sklearn.naive_bayes import GaussianNB\n",
    "from sklearn.neighbors import KNeighborsClassifier\n",
    "from sklearn.neural_network import MLPClassifier\n",
    "from sklearn.ensemble import RandomForestClassifier\n",
    "from sklearn.tree import DecisionTreeClassifier\n",
    "\n",
    "from sklearn.feature_extraction.text import CountVectorizer\n",
    "from sklearn.feature_extraction.text import TfidfVectorizer\n",
    "from sklearn.feature_extraction.text import HashingVectorizer\n",
    "\n",
    "from sklearn.metrics import accuracy_score, precision_score, recall_score, f1_score\n",
    "from scipy.sparse import issparse\n",
    "\n",
    "\n",
    "from dotenv import load_dotenv\n",
    "import os\n",
    "import mlflow\n",
    "import mlflow.sklearn\n",
    "import time"
   ]
  },
  {
   "cell_type": "code",
   "execution_count": 2,
   "metadata": {},
   "outputs": [],
   "source": [
    "RANDOM_STATE = 123"
   ]
  },
  {
   "cell_type": "markdown",
   "metadata": {},
   "source": [
    "## Import Data"
   ]
  },
  {
   "cell_type": "code",
   "execution_count": 3,
   "metadata": {},
   "outputs": [],
   "source": [
    "DATASET_FILENAME = \"dataset-v1.pkl\"\n",
    "DATA_PATH = os.path.join(\"..\", \"data\", DATASET_FILENAME)"
   ]
  },
  {
   "cell_type": "code",
   "execution_count": 4,
   "metadata": {},
   "outputs": [
    {
     "data": {
      "text/html": [
       "<div>\n",
       "<style scoped>\n",
       "    .dataframe tbody tr th:only-of-type {\n",
       "        vertical-align: middle;\n",
       "    }\n",
       "\n",
       "    .dataframe tbody tr th {\n",
       "        vertical-align: top;\n",
       "    }\n",
       "\n",
       "    .dataframe thead th {\n",
       "        text-align: right;\n",
       "    }\n",
       "</style>\n",
       "<table border=\"1\" class=\"dataframe\">\n",
       "  <thead>\n",
       "    <tr style=\"text-align: right;\">\n",
       "      <th></th>\n",
       "      <th>id</th>\n",
       "      <th>url</th>\n",
       "      <th>author</th>\n",
       "      <th>title</th>\n",
       "      <th>body</th>\n",
       "      <th>labels</th>\n",
       "    </tr>\n",
       "  </thead>\n",
       "  <tbody>\n",
       "    <tr>\n",
       "      <th>0</th>\n",
       "      <td>2315914373</td>\n",
       "      <td>https://api.github.com/repos/conda-forge/libav...</td>\n",
       "      <td>traversaro</td>\n",
       "      <td>Missing migrations for libavif pinned in conda...</td>\n",
       "      <td>### Comment:\\n\\nI was debugging some strange r...</td>\n",
       "      <td>[question]</td>\n",
       "    </tr>\n",
       "    <tr>\n",
       "      <th>1</th>\n",
       "      <td>2277197953</td>\n",
       "      <td>https://api.github.com/repos/Gravitate-Health/...</td>\n",
       "      <td>joofio</td>\n",
       "      <td>[UI] MVP2 feedback</td>\n",
       "      <td>UAG\\n* search button - no need for click on se...</td>\n",
       "      <td>[question, MVP3]</td>\n",
       "    </tr>\n",
       "    <tr>\n",
       "      <th>2</th>\n",
       "      <td>2281363246</td>\n",
       "      <td>https://api.github.com/repos/manoj1689/HtmlToP...</td>\n",
       "      <td>manoj1689</td>\n",
       "      <td>All Issues resolved.</td>\n",
       "      <td>\"Welcome to the Repository\".</td>\n",
       "      <td>[bug]</td>\n",
       "    </tr>\n",
       "    <tr>\n",
       "      <th>3</th>\n",
       "      <td>2324288726</td>\n",
       "      <td>https://api.github.com/repos/chester-hill-solu...</td>\n",
       "      <td>sai-sy</td>\n",
       "      <td>Create account rules when broken, no error prompt</td>\n",
       "      <td></td>\n",
       "      <td>[bug, design]</td>\n",
       "    </tr>\n",
       "    <tr>\n",
       "      <th>4</th>\n",
       "      <td>2309225227</td>\n",
       "      <td>https://api.github.com/repos/tylerapritchard/l...</td>\n",
       "      <td>tylerapritchard</td>\n",
       "      <td>Nan is Search Results table</td>\n",
       "      <td>Just a general question - is there something w...</td>\n",
       "      <td>[question]</td>\n",
       "    </tr>\n",
       "  </tbody>\n",
       "</table>\n",
       "</div>"
      ],
      "text/plain": [
       "           id                                                url  \\\n",
       "0  2315914373  https://api.github.com/repos/conda-forge/libav...   \n",
       "1  2277197953  https://api.github.com/repos/Gravitate-Health/...   \n",
       "2  2281363246  https://api.github.com/repos/manoj1689/HtmlToP...   \n",
       "3  2324288726  https://api.github.com/repos/chester-hill-solu...   \n",
       "4  2309225227  https://api.github.com/repos/tylerapritchard/l...   \n",
       "\n",
       "            author                                              title  \\\n",
       "0       traversaro  Missing migrations for libavif pinned in conda...   \n",
       "1           joofio                                 [UI] MVP2 feedback   \n",
       "2        manoj1689                               All Issues resolved.   \n",
       "3           sai-sy  Create account rules when broken, no error prompt   \n",
       "4  tylerapritchard                        Nan is Search Results table   \n",
       "\n",
       "                                                body            labels  \n",
       "0  ### Comment:\\n\\nI was debugging some strange r...        [question]  \n",
       "1  UAG\\n* search button - no need for click on se...  [question, MVP3]  \n",
       "2                       \"Welcome to the Repository\".             [bug]  \n",
       "3                                                        [bug, design]  \n",
       "4  Just a general question - is there something w...        [question]  "
      ]
     },
     "execution_count": 4,
     "metadata": {},
     "output_type": "execute_result"
    }
   ],
   "source": [
    "df = pd.read_pickle(DATA_PATH)\n",
    "df.head()"
   ]
  },
  {
   "cell_type": "markdown",
   "metadata": {},
   "source": [
    "## Preprocess data\n",
    "- Split the input features (issue content) and target feature (label)\n",
    "- For binary classification, convert all non-\"spam\" issues into \"not-spam\""
   ]
  },
  {
   "cell_type": "code",
   "execution_count": 5,
   "metadata": {},
   "outputs": [],
   "source": [
    "X = df['title'] + ' ' + df['body']\n",
    "y = df['labels'].apply(lambda x: 'spam' if 'spam' in x else 'not-spam')"
   ]
  },
  {
   "cell_type": "markdown",
   "metadata": {},
   "source": [
    "## Config MLflow"
   ]
  },
  {
   "cell_type": "code",
   "execution_count": 6,
   "metadata": {},
   "outputs": [
    {
     "name": "stderr",
     "output_type": "stream",
     "text": [
      "2024/06/15 00:15:26 INFO mlflow.tracking.fluent: Experiment with name 'binary_classifier_corpus_0' does not exist. Creating a new experiment.\n"
     ]
    },
    {
     "name": "stdout",
     "output_type": "stream",
     "text": [
      "Experiment ID: 1\n",
      "Experiment Name: binary_classifier_corpus_0\n"
     ]
    }
   ],
   "source": [
    "mlflow.set_tracking_uri(\"http://localhost:5000\")\n",
    "\n",
    "EXPERIMENT_NAME = \"binary_classifier_corpus_0\"\n",
    "RUN_UID = str(int(time.time()))\n",
    "mlflow.set_experiment(experiment_name=EXPERIMENT_NAME)\n",
    "\n",
    "experiment = mlflow.get_experiment_by_name(EXPERIMENT_NAME)\n",
    "print(\"Experiment ID:\", experiment.experiment_id)\n",
    "print(\"Experiment Name:\", experiment.name)\n"
   ]
  },
  {
   "cell_type": "markdown",
   "metadata": {},
   "source": [
    "## Define Models\n",
    "- Use statistical models and a simple neural network for variety\n",
    "- Notice that we are not using SVC due to computational cost\n",
    "- Save the models in a dictionary with their corresponding hyperparameters for easier indexing"
   ]
  },
  {
   "cell_type": "code",
   "execution_count": 7,
   "metadata": {},
   "outputs": [],
   "source": [
    "logreg_hyperparameters = {\n",
    "    'penalty': 'l2',\n",
    "    'solver': 'lbfgs',\n",
    "    'random_state': RANDOM_STATE\n",
    "}\n",
    "nn_hyperparameters = {\n",
    "    'learning_rate': 'adaptive',\n",
    "    'alpha': 0.0001,\n",
    "    'max_iter': 1000,\n",
    "    'activation': 'relu',\n",
    "    'solver': 'adam',\n",
    "    'random_state': RANDOM_STATE\n",
    "}\n",
    "rf_hyperparameters = {\n",
    "    'max_depth': None,\n",
    "    'n_estimators': 100, \n",
    "    'max_features': 'sqrt',\n",
    "    'random_state': RANDOM_STATE\n",
    "}\n",
    "\n",
    "logreg = LogisticRegression(**logreg_hyperparameters)\n",
    "nb = GaussianNB()\n",
    "knn = KNeighborsClassifier(n_neighbors=5)\n",
    "nn = MLPClassifier(**nn_hyperparameters)\n",
    "rf = RandomForestClassifier(**rf_hyperparameters)\n",
    "\n",
    "models = {\n",
    "    \"logreg\": (logreg, logreg_hyperparameters),\n",
    "    \"nb\": (nb, {}),\n",
    "    \"knn\": (knn, {\"n_neighbors\": 5}),\n",
    "    \"nn\": (nn, nn_hyperparameters),\n",
    "    \"rf\": (rf, rf_hyperparameters)\n",
    "}"
   ]
  },
  {
   "cell_type": "markdown",
   "metadata": {},
   "source": [
    "## Define Vectorizers\n",
    "- Text input must be converted into numerical input (vectors) before classification\n",
    "- For computational efficiency, we'll use non-neural vectorizers Bag-of-Words and TFIDF"
   ]
  },
  {
   "cell_type": "code",
   "execution_count": 8,
   "metadata": {},
   "outputs": [],
   "source": [
    "count_vectorizer = CountVectorizer() # Bag-of-Words vectorizer\n",
    "tfidf_vectorizer = TfidfVectorizer()\n",
    "\n",
    "vectorizers = {\"count_vectorizer\": count_vectorizer, \"tfidf_vectorizer\": tfidf_vectorizer}"
   ]
  },
  {
   "cell_type": "markdown",
   "metadata": {},
   "source": [
    "## Run Experiments\n",
    "- Evaluate model performance using [K-fold cross validation](https://www.analyticsvidhya.com/blog/2022/02/k-fold-cross-validation-technique-and-its-essentials/#:~:text=K%2Dfold%20cross%2Dvalidation%20is,folds%20are%20used%20for%20training.) as an unbiased measure of performance before training final classifier on full dataset\n",
    "- For each classifier model and vectorizer, train and evaluate + save results in MLflow"
   ]
  },
  {
   "cell_type": "code",
   "execution_count": 9,
   "metadata": {},
   "outputs": [
    {
     "name": "stdout",
     "output_type": "stream",
     "text": [
      "Evaluating logreg with count_vectorizer\n"
     ]
    },
    {
     "name": "stderr",
     "output_type": "stream",
     "text": [
      "2024/06/15 00:16:19 WARNING mlflow.utils.git_utils: Failed to import Git (the Git executable is probably not on your PATH), so Git SHA is not available. Error: Failed to initialize: Bad git executable.\n",
      "The git executable must be specified in one of the following ways:\n",
      "    - be included in your $PATH\n",
      "    - be set via $GIT_PYTHON_GIT_EXECUTABLE\n",
      "    - explicitly set via git.refresh(<full-path-to-git-executable>)\n",
      "\n",
      "All git commands will error until this is rectified.\n",
      "\n",
      "This initial message can be silenced or aggravated in the future by setting the\n",
      "$GIT_PYTHON_REFRESH environment variable. Use one of the following values:\n",
      "    - quiet|q|silence|s|silent|none|n|0: for no message or exception\n",
      "    - warn|w|warning|log|l|1: for a warning message (logging level CRITICAL, displayed by default)\n",
      "    - error|e|exception|raise|r|2: for a raised exception\n",
      "\n",
      "Example:\n",
      "    export GIT_PYTHON_REFRESH=quiet\n",
      "\n"
     ]
    },
    {
     "name": "stdout",
     "output_type": "stream",
     "text": [
      "Evaluating logreg with tfidf_vectorizer\n",
      "Evaluating nb with count_vectorizer\n",
      "Evaluating nb with tfidf_vectorizer\n",
      "Evaluating knn with count_vectorizer\n",
      "Evaluating knn with tfidf_vectorizer\n",
      "Evaluating nn with count_vectorizer\n",
      "Evaluating nn with tfidf_vectorizer\n",
      "Evaluating rf with count_vectorizer\n",
      "Evaluating rf with tfidf_vectorizer\n",
      "Model: logreg, Vectorizer: count_vectorizer, Average Accuracy: 0.9621059268600252\n",
      "Model: logreg, Vectorizer: tfidf_vectorizer, Average Accuracy: 0.9637512760463579\n",
      "Model: nb, Vectorizer: count_vectorizer, Average Accuracy: 0.9352068696330992\n",
      "Model: nb, Vectorizer: tfidf_vectorizer, Average Accuracy: 0.9264216657659281\n",
      "Model: knn, Vectorizer: count_vectorizer, Average Accuracy: 0.7836425869212753\n",
      "Model: knn, Vectorizer: tfidf_vectorizer, Average Accuracy: 0.947817210112292\n",
      "Model: nn, Vectorizer: count_vectorizer, Average Accuracy: 0.9686993334534317\n",
      "Model: nn, Vectorizer: tfidf_vectorizer, Average Accuracy: 0.9725334774515103\n",
      "Model: rf, Vectorizer: count_vectorizer, Average Accuracy: 0.9505914850177145\n",
      "Model: rf, Vectorizer: tfidf_vectorizer, Average Accuracy: 0.9500360295442263\n"
     ]
    }
   ],
   "source": [
    "N_SPLITS = 10\n",
    "\n",
    "kf = KFold(n_splits=N_SPLITS, shuffle=True, random_state=RANDOM_STATE)\n",
    "results = {(model_name, vectorizer_name): [] for model_name in models for vectorizer_name in vectorizers}\n",
    "\n",
    "for model_name, (model, hyperparams) in models.items():\n",
    "    for vectorizer_name, vectorizer in vectorizers.items():\n",
    "        print(f\"Evaluating {model_name} with {vectorizer_name}\")\n",
    "        X_vectorized = vectorizer.fit_transform(X)  # Vectorize the input text\n",
    "        \n",
    "        if issparse(X_vectorized) and isinstance(model, GaussianNB):\n",
    "            X_vectorized = X_vectorized.toarray()  # Convert to dense array\n",
    "\n",
    "        accuracies = []\n",
    "        precisions = []\n",
    "        recalls = []\n",
    "        f1_scores = []\n",
    "\n",
    "        for fold, (train_index, test_index) in enumerate(kf.split(X_vectorized)):\n",
    "            X_train, X_test = X_vectorized[train_index], X_vectorized[test_index]\n",
    "            y_train, y_test = y.iloc[train_index], y.iloc[test_index]\n",
    "\n",
    "            model.fit(X_train, y_train)  # Train the model\n",
    "            y_pred = model.predict(X_test)  # Predict on the test set\n",
    "\n",
    "            # Calculate metrics\n",
    "            accuracy = accuracy_score(y_test, y_pred)\n",
    "            precision = precision_score(y_test, y_pred, pos_label='spam')\n",
    "            recall = recall_score(y_test, y_pred, pos_label='spam')\n",
    "            f1 = f1_score(y_test, y_pred, pos_label='spam')\n",
    "\n",
    "            # Accumulate metrics\n",
    "            accuracies.append(accuracy)\n",
    "            precisions.append(precision)\n",
    "            recalls.append(recall)\n",
    "            f1_scores.append(f1)\n",
    "\n",
    "        # Log final metrics for the model after all folds\n",
    "        with mlflow.start_run(run_name=f\"{model_name}_{vectorizer_name}_{RUN_UID}\"):\n",
    "            avg_accuracy = np.mean(accuracies)\n",
    "            avg_precision = np.mean(precisions)\n",
    "            avg_recall = np.mean(recalls)\n",
    "            avg_f1 = np.mean(f1_scores)\n",
    "\n",
    "            mlflow.log_param(\"model\", model_name)\n",
    "            mlflow.log_param(\"vectorizer\", vectorizer_name)\n",
    "            mlflow.log_metrics({\n",
    "                \"avg_accuracy\": avg_accuracy,\n",
    "                \"avg_precision\": avg_precision,\n",
    "                \"avg_recall\": avg_recall,\n",
    "                \"avg_f1_score\": avg_f1\n",
    "            })\n",
    "\n",
    "            # Log hyperparameters\n",
    "            mlflow.log_params(hyperparams)\n",
    "\n",
    "            # Store the result\n",
    "            results[(model_name, vectorizer_name)].append(avg_accuracy)\n",
    "\n",
    "# Print the average accuracy for each model and vectorizer\n",
    "for (model_name, vectorizer_name), accuracies in results.items():\n",
    "    print(f\"Model: {model_name}, Vectorizer: {vectorizer_name}, Average Accuracy: {np.mean(accuracies)}\")"
   ]
  },
  {
   "cell_type": "code",
   "execution_count": null,
   "metadata": {},
   "outputs": [],
   "source": []
  }
 ],
 "metadata": {
  "kernelspec": {
   "display_name": "venv",
   "language": "python",
   "name": "python3"
  },
  "language_info": {
   "codemirror_mode": {
    "name": "ipython",
    "version": 3
   },
   "file_extension": ".py",
   "mimetype": "text/x-python",
   "name": "python",
   "nbconvert_exporter": "python",
   "pygments_lexer": "ipython3",
   "version": "3.11.6"
  }
 },
 "nbformat": 4,
 "nbformat_minor": 2
}
