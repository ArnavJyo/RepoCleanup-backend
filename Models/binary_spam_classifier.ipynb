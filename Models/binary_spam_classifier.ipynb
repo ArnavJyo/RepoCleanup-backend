{
 "cells": [
  {
   "cell_type": "markdown",
   "metadata": {},
   "source": [
    "# Binary Spam Classifier\n",
    "The purpose of this notebook is to evaluate scikit-learn models for binary spam classification.\n"
   ]
  },
  {
   "cell_type": "code",
   "execution_count": 14,
   "metadata": {},
   "outputs": [],
   "source": [
    "import pandas as pd\n",
    "from sklearn.model_selection import KFold\n",
    "from sklearn.metrics import accuracy_score\n",
    "import numpy as np\n",
    "import requests\n",
    "from sklearn.linear_model import LogisticRegression\n",
    "from sklearn.naive_bayes import GaussianNB\n",
    "from sklearn.neighbors import KNeighborsClassifier\n",
    "from sklearn.neural_network import MLPClassifier\n",
    "from sklearn.ensemble import RandomForestClassifier\n",
    "from sklearn.tree import DecisionTreeClassifier\n",
    "\n",
    "from sklearn.feature_extraction.text import CountVectorizer\n",
    "from sklearn.feature_extraction.text import TfidfVectorizer\n",
    "from sklearn.feature_extraction.text import HashingVectorizer\n",
    "\n",
    "from sklearn.metrics import accuracy_score, precision_score, recall_score, f1_score\n",
    "\n",
    "from dotenv import load_dotenv\n",
    "import os\n",
    "import mlflow\n",
    "import mlflow.sklearn\n",
    "import uuid"
   ]
  },
  {
   "cell_type": "code",
   "execution_count": 17,
   "metadata": {},
   "outputs": [],
   "source": [
    "RANDOM_STATE = 123"
   ]
  },
  {
   "cell_type": "markdown",
   "metadata": {},
   "source": [
    "## Import Data"
   ]
  },
  {
   "cell_type": "code",
   "execution_count": null,
   "metadata": {},
   "outputs": [],
   "source": [
    "DATA_PATH = os.path.join(\"..\", \"data\")\n",
    "DATASET_FILENAME = \"PLACEHOLDER.pkl\""
   ]
  },
  {
   "cell_type": "code",
   "execution_count": null,
   "metadata": {},
   "outputs": [],
   "source": [
    "df = pd.read_pickle(DATA_PATH, DATASET_FILENAME)\n",
    "df.head()"
   ]
  },
  {
   "cell_type": "markdown",
   "metadata": {},
   "source": [
    "## Define Models\n",
    "- Use statistical models and a simple neural network for variety\n",
    "- Notice that we are not using SVC due to computational cost\n",
    "- Save the models in a dictionary for easier indexing"
   ]
  },
  {
   "cell_type": "code",
   "execution_count": 12,
   "metadata": {},
   "outputs": [],
   "source": [
    "logreg = LogisticRegression()\n",
    "nb = GaussianNB()\n",
    "knn = KNeighborsClassifier(n_neighbors=5)\n",
    "nn = MLPClassifier(alpha=1, max_iter=1000, random_state=RANDOM_STATE)\n",
    "rf = RandomForestClassifier(max_depth=5, n_estimators=10, max_features=1, random_state=RANDOM_STATE)\n",
    "\n",
    "models = {\"logreg\": logreg, \"nb\": nb, \"knn\": knn, \"nn\": nn, \"rf\": rf}"
   ]
  },
  {
   "cell_type": "markdown",
   "metadata": {},
   "source": [
    "## Define Vectorizers\n",
    "- Text input must be converted into numerical input (vectors) before classification\n",
    "- For computational efficiency, we'll use non-neural vectorizers"
   ]
  },
  {
   "cell_type": "code",
   "execution_count": 16,
   "metadata": {},
   "outputs": [],
   "source": [
    "count_vectorizer = CountVectorizer()\n",
    "tfidf_vectorizer = TfidfVectorizer()\n",
    "hashing_vectorizer = HashingVectorizer()\n",
    "\n",
    "vectorizers = {\"count_vectorizer\": count_vectorizer, \"tfidf_vectorizer\": tfidf_vectorizer, \"hashing_vectorizer\": hashing_vectorizer}"
   ]
  },
  {
   "cell_type": "markdown",
   "metadata": {},
   "source": [
    "## Config MLflow"
   ]
  },
  {
   "cell_type": "code",
   "execution_count": null,
   "metadata": {},
   "outputs": [],
   "source": [
    "mlflow.set_tracking_uri(\"http://localhost:5000\")\n",
    "\n",
    "EXPERIMENT_NAME = \"binary_classifier_corpus_0\"\n",
    "RUN_UID = uuid.uuid4()\n",
    "mlflow.set_experiment(experiment_name=EXPERIMENT_NAME)\n",
    "\n",
    "experiment = mlflow.get_experiment_by_name(EXPERIMENT_NAME)\n",
    "print(\"Experiment ID:\", experiment.experiment_id)\n",
    "print(\"Experiment Name:\", experiment.name)\n"
   ]
  },
  {
   "cell_type": "markdown",
   "metadata": {},
   "source": [
    "## Evaluate Models\n"
   ]
  },
  {
   "cell_type": "markdown",
   "metadata": {},
   "source": [
    "- Split the input features (issue content) and target feature (label)\n",
    "- For binary classification, convert all non-\"spam\" issues into \"not-spam\""
   ]
  },
  {
   "cell_type": "code",
   "execution_count": null,
   "metadata": {},
   "outputs": [],
   "source": [
    "X = df['issue_title'] + ' ' + df['issue_body']\n",
    "y = df['target'].apply(lambda x: 'spam' if x == 'spam' else 'not-spam')"
   ]
  },
  {
   "cell_type": "markdown",
   "metadata": {},
   "source": [
    "Evaluate model performance using [K-fold cross validation](https://www.analyticsvidhya.com/blog/2022/02/k-fold-cross-validation-technique-and-its-essentials/#:~:text=K%2Dfold%20cross%2Dvalidation%20is,folds%20are%20used%20for%20training.) as an unbiased measure of performance before training final classifier on full dataset\n",
    "- For each classifier model and vectorizer, train and evaluate + save results in MLflow"
   ]
  },
  {
   "cell_type": "code",
   "execution_count": null,
   "metadata": {},
   "outputs": [],
   "source": [
    "kf = KFold(n_splits=5, shuffle=True, random_state=RANDOM_STATE)\n",
    "results = {name: [] for name in models}\n",
    "\n",
    "for model_name, model in models.items():\n",
    "    for vectorizer_name, vectorizer in vectorizers.items():\n",
    "        X_vectorized = vectorizer.fit_transform(X)  # Vectorize the input issue text\n",
    "        \n",
    "        accuracies = []\n",
    "        precisions = []\n",
    "        recalls = []\n",
    "        f1_scores = []\n",
    "\n",
    "        for fold, (train_index, test_index) in kf.split(X_vectorized):\n",
    "            X_train, X_test = X_vectorized[train_index], X_vectorized[test_index]\n",
    "            y_train, y_test = y.iloc[train_index], y.iloc[test_index]\n",
    "\n",
    "            model.fit(X_train, y_train)  # Train the model\n",
    "            y_pred = model.predict(X_test)  # Predict on the test set\n",
    "\n",
    "            # Calculate metrics\n",
    "            accuracy = accuracy_score(y_test, y_pred)\n",
    "            precision = precision_score(y_test, y_pred, pos_label='spam')\n",
    "            recall = recall_score(y_test, y_pred, pos_label='spam')\n",
    "            f1 = f1_score(y_test, y_pred, pos_label='spam')\n",
    "\n",
    "            # Accumulate metrics\n",
    "            accuracies.append(accuracy)\n",
    "            precisions.append(precision)\n",
    "            recalls.append(recall)\n",
    "            f1_scores.append(f1)\n",
    "\n",
    "        # Log final metrics for the model after all folds\n",
    "        with mlflow.start_run(run_name=f\"{model_name}_{vectorizer_name}_{RUN_UID}\"):\n",
    "            avg_accuracy = np.mean(accuracies)\n",
    "            avg_precision = np.mean(precisions)\n",
    "            avg_recall = np.mean(recalls)\n",
    "            avg_f1 = np.mean(f1_scores)\n",
    "\n",
    "            mlflow.log_param(\"model\", model_name)\n",
    "            mlflow.log_param(\"vectorizer\", vectorizer_name)\n",
    "            mlflow.log_metric(\"avg_accuracy\", avg_accuracy)\n",
    "            mlflow.log_metric(\"avg_precision\", avg_precision)\n",
    "            mlflow.log_metric(\"avg_recall\", avg_recall)\n",
    "            mlflow.log_metric(\"avg_f1_score\", avg_f1)\n",
    "\n",
    "            # Store the result\n",
    "            results[model_name].append(avg_accuracy)\n",
    "\n",
    "# Print the average accuracy for each model\n",
    "for name, scores in results.items():\n",
    "    print(f\"{name}: {sum(scores)/len(scores):.2f}\")"
   ]
  }
 ],
 "metadata": {
  "kernelspec": {
   "display_name": "venv",
   "language": "python",
   "name": "python3"
  },
  "language_info": {
   "codemirror_mode": {
    "name": "ipython",
    "version": 3
   },
   "file_extension": ".py",
   "mimetype": "text/x-python",
   "name": "python",
   "nbconvert_exporter": "python",
   "pygments_lexer": "ipython3",
   "version": "3.9.13"
  }
 },
 "nbformat": 4,
 "nbformat_minor": 2
}
