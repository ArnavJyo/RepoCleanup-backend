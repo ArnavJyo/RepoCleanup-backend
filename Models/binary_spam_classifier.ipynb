{
 "cells": [
  {
   "cell_type": "markdown",
   "metadata": {},
   "source": [
    "# Binary Spam Classifier\n",
    "The purpose of this notebook is to train scikit-learn binary spam classification models on the full corpus for deployment.\n"
   ]
  },
  {
   "cell_type": "code",
   "execution_count": 1,
   "metadata": {},
   "outputs": [],
   "source": [
    "import pandas as pd\n",
    "from sklearn.model_selection import KFold\n",
    "from sklearn.metrics import accuracy_score\n",
    "import numpy as np\n",
    "import requests\n",
    "from sklearn.linear_model import LogisticRegression\n",
    "from sklearn.naive_bayes import GaussianNB\n",
    "from sklearn.neighbors import KNeighborsClassifier\n",
    "from sklearn.neural_network import MLPClassifier\n",
    "from sklearn.ensemble import RandomForestClassifier\n",
    "from sklearn.tree import DecisionTreeClassifier\n",
    "\n",
    "from sklearn.feature_extraction.text import CountVectorizer\n",
    "from sklearn.feature_extraction.text import TfidfVectorizer\n",
    "from sklearn.feature_extraction.text import HashingVectorizer\n",
    "\n",
    "from sklearn.metrics import accuracy_score, precision_score, recall_score, f1_score\n",
    "from scipy.sparse import issparse\n",
    "from sklearn.pipeline import Pipeline\n",
    "\n",
    "\n",
    "from dotenv import load_dotenv\n",
    "import os\n",
    "import mlflow\n",
    "import mlflow.sklearn\n",
    "import joblib\n",
    "import time"
   ]
  },
  {
   "cell_type": "code",
   "execution_count": 2,
   "metadata": {},
   "outputs": [],
   "source": [
    "RANDOM_STATE = 123"
   ]
  },
  {
   "cell_type": "markdown",
   "metadata": {},
   "source": [
    "## Import Data"
   ]
  },
  {
   "cell_type": "code",
   "execution_count": 3,
   "metadata": {},
   "outputs": [],
   "source": [
    "DATASET_FILENAME = \"dataset-v1.pkl\"\n",
    "DATA_PATH = os.path.join(\"..\", \"data\", DATASET_FILENAME)"
   ]
  },
  {
   "cell_type": "code",
   "execution_count": 4,
   "metadata": {},
   "outputs": [
    {
     "data": {
      "text/html": [
       "<div>\n",
       "<style scoped>\n",
       "    .dataframe tbody tr th:only-of-type {\n",
       "        vertical-align: middle;\n",
       "    }\n",
       "\n",
       "    .dataframe tbody tr th {\n",
       "        vertical-align: top;\n",
       "    }\n",
       "\n",
       "    .dataframe thead th {\n",
       "        text-align: right;\n",
       "    }\n",
       "</style>\n",
       "<table border=\"1\" class=\"dataframe\">\n",
       "  <thead>\n",
       "    <tr style=\"text-align: right;\">\n",
       "      <th></th>\n",
       "      <th>id</th>\n",
       "      <th>url</th>\n",
       "      <th>author</th>\n",
       "      <th>title</th>\n",
       "      <th>body</th>\n",
       "      <th>labels</th>\n",
       "    </tr>\n",
       "  </thead>\n",
       "  <tbody>\n",
       "    <tr>\n",
       "      <th>0</th>\n",
       "      <td>2315914373</td>\n",
       "      <td>https://api.github.com/repos/conda-forge/libav...</td>\n",
       "      <td>traversaro</td>\n",
       "      <td>Missing migrations for libavif pinned in conda...</td>\n",
       "      <td>### Comment:\\n\\nI was debugging some strange r...</td>\n",
       "      <td>[question]</td>\n",
       "    </tr>\n",
       "    <tr>\n",
       "      <th>1</th>\n",
       "      <td>2277197953</td>\n",
       "      <td>https://api.github.com/repos/Gravitate-Health/...</td>\n",
       "      <td>joofio</td>\n",
       "      <td>[UI] MVP2 feedback</td>\n",
       "      <td>UAG\\n* search button - no need for click on se...</td>\n",
       "      <td>[question, MVP3]</td>\n",
       "    </tr>\n",
       "    <tr>\n",
       "      <th>2</th>\n",
       "      <td>2281363246</td>\n",
       "      <td>https://api.github.com/repos/manoj1689/HtmlToP...</td>\n",
       "      <td>manoj1689</td>\n",
       "      <td>All Issues resolved.</td>\n",
       "      <td>\"Welcome to the Repository\".</td>\n",
       "      <td>[bug]</td>\n",
       "    </tr>\n",
       "    <tr>\n",
       "      <th>3</th>\n",
       "      <td>2324288726</td>\n",
       "      <td>https://api.github.com/repos/chester-hill-solu...</td>\n",
       "      <td>sai-sy</td>\n",
       "      <td>Create account rules when broken, no error prompt</td>\n",
       "      <td></td>\n",
       "      <td>[bug, design]</td>\n",
       "    </tr>\n",
       "    <tr>\n",
       "      <th>4</th>\n",
       "      <td>2309225227</td>\n",
       "      <td>https://api.github.com/repos/tylerapritchard/l...</td>\n",
       "      <td>tylerapritchard</td>\n",
       "      <td>Nan is Search Results table</td>\n",
       "      <td>Just a general question - is there something w...</td>\n",
       "      <td>[question]</td>\n",
       "    </tr>\n",
       "  </tbody>\n",
       "</table>\n",
       "</div>"
      ],
      "text/plain": [
       "           id                                                url  \\\n",
       "0  2315914373  https://api.github.com/repos/conda-forge/libav...   \n",
       "1  2277197953  https://api.github.com/repos/Gravitate-Health/...   \n",
       "2  2281363246  https://api.github.com/repos/manoj1689/HtmlToP...   \n",
       "3  2324288726  https://api.github.com/repos/chester-hill-solu...   \n",
       "4  2309225227  https://api.github.com/repos/tylerapritchard/l...   \n",
       "\n",
       "            author                                              title  \\\n",
       "0       traversaro  Missing migrations for libavif pinned in conda...   \n",
       "1           joofio                                 [UI] MVP2 feedback   \n",
       "2        manoj1689                               All Issues resolved.   \n",
       "3           sai-sy  Create account rules when broken, no error prompt   \n",
       "4  tylerapritchard                        Nan is Search Results table   \n",
       "\n",
       "                                                body            labels  \n",
       "0  ### Comment:\\n\\nI was debugging some strange r...        [question]  \n",
       "1  UAG\\n* search button - no need for click on se...  [question, MVP3]  \n",
       "2                       \"Welcome to the Repository\".             [bug]  \n",
       "3                                                        [bug, design]  \n",
       "4  Just a general question - is there something w...        [question]  "
      ]
     },
     "execution_count": 4,
     "metadata": {},
     "output_type": "execute_result"
    }
   ],
   "source": [
    "df = pd.read_pickle(DATA_PATH)\n",
    "df.head()"
   ]
  },
  {
   "cell_type": "markdown",
   "metadata": {},
   "source": [
    "## Preprocess data\n",
    "- Split the input features (issue content) and target feature (label)\n",
    "- For binary classification, convert all non-\"spam\" issues into \"not-spam\""
   ]
  },
  {
   "cell_type": "code",
   "execution_count": 5,
   "metadata": {},
   "outputs": [],
   "source": [
    "X = df['title'] + ' ' + df['body']\n",
    "y = df['labels'].apply(lambda x: 'spam' if 'spam' in x else 'not-spam')"
   ]
  },
  {
   "cell_type": "markdown",
   "metadata": {},
   "source": [
    "## Config MLflow"
   ]
  },
  {
   "cell_type": "code",
   "execution_count": 6,
   "metadata": {},
   "outputs": [
    {
     "name": "stdout",
     "output_type": "stream",
     "text": [
      "Experiment ID: 1\n",
      "Experiment Name: binary_classifier_corpus_0\n"
     ]
    }
   ],
   "source": [
    "EXPERIMENT_NAME = \"binary_classifier_corpus_0\"\n",
    "mlflow.set_tracking_uri(\"http://localhost:5000\")\n",
    "mlflow.set_experiment(experiment_name=EXPERIMENT_NAME)\n",
    "experiment = mlflow.get_experiment_by_name(EXPERIMENT_NAME)\n",
    "\n",
    "EXPERIMENT_ID = experiment.experiment_id\n",
    "RUN_UID = str(int(time.time()))\n",
    "\n",
    "print(\"Experiment ID:\",EXPERIMENT_ID)\n",
    "print(\"Experiment Name:\", EXPERIMENT_NAME)\n"
   ]
  },
  {
   "cell_type": "markdown",
   "metadata": {},
   "source": [
    "## Define Models\n",
    "- Use statistical models and a simple neural network for variety\n",
    "- Notice that we are not using SVC due to computational cost\n",
    "- Save the models in a dictionary with their corresponding hyperparameters for easier indexing"
   ]
  },
  {
   "cell_type": "code",
   "execution_count": 7,
   "metadata": {},
   "outputs": [],
   "source": [
    "logreg_hyperparameters = {\n",
    "    'penalty': 'l2',\n",
    "    'solver': 'lbfgs',\n",
    "    'random_state': RANDOM_STATE\n",
    "}\n",
    "nn_hyperparameters = {\n",
    "    'learning_rate': 'adaptive',\n",
    "    'alpha': 0.0001,\n",
    "    'max_iter': 1000,\n",
    "    'activation': 'relu',\n",
    "    'solver': 'adam',\n",
    "    'random_state': RANDOM_STATE\n",
    "}\n",
    "rf_hyperparameters = {\n",
    "    'max_depth': None,\n",
    "    'n_estimators': 100, \n",
    "    'max_features': 'sqrt',\n",
    "    'random_state': RANDOM_STATE\n",
    "}\n",
    "\n",
    "logreg = LogisticRegression(**logreg_hyperparameters)\n",
    "nb = GaussianNB()\n",
    "knn = KNeighborsClassifier(n_neighbors=5)\n",
    "nn = MLPClassifier(**nn_hyperparameters)\n",
    "rf = RandomForestClassifier(**rf_hyperparameters)\n",
    "\n",
    "models = {\"logreg\": logreg, \"nb\": nb, \"knn\": knn, \"nn\": nn, \"rf\": rf}"
   ]
  },
  {
   "cell_type": "markdown",
   "metadata": {},
   "source": [
    "## Define Vectorizers\n",
    "- Text input must be converted into numerical input (vectors) before classification\n",
    "- For computational efficiency, we'll use non-neural vectorizers Bag-of-Words and TFIDF"
   ]
  },
  {
   "cell_type": "code",
   "execution_count": 8,
   "metadata": {},
   "outputs": [],
   "source": [
    "count_vectorizer = CountVectorizer() # Bag-of-Words vectorizer\n",
    "tfidf_vectorizer = TfidfVectorizer()\n",
    "\n",
    "vectorizers = {\"count_vectorizer\": count_vectorizer, \"tfidf_vectorizer\": tfidf_vectorizer}"
   ]
  },
  {
   "cell_type": "markdown",
   "metadata": {},
   "source": [
    "## Train Model On Full Dataset\n",
    "- Select the best performing classifier-vectorizer model pair from the experiments\n",
    "- Save as pipeline in MLflow artifacts folder"
   ]
  },
  {
   "cell_type": "code",
   "execution_count": 9,
   "metadata": {},
   "outputs": [],
   "source": [
    "def train_and_log_model(X, y, model, model_name, model_params, vectorizer, vectorizer_name):\n",
    "    registered_model_name = f\"{model_name}_{vectorizer_name}\"\n",
    "    run_name = f\"{registered_model_name}_{RUN_UID}\"\n",
    "\n",
    "    pipeline = Pipeline([\n",
    "        ('vectorizer', vectorizer),\n",
    "        ('model', model)\n",
    "    ])\n",
    "\n",
    "    pipeline.fit(X, y)\n",
    "    run_id = None\n",
    "\n",
    "    with mlflow.start_run(experiment_id=EXPERIMENT_ID, run_name=run_name) as run:\n",
    "        # Log model\n",
    "        mlflow.sklearn.log_model(pipeline, model_name, registered_model_name=registered_model_name)\n",
    "\n",
    "        # Log model parameters\n",
    "        model_params = model.get_params()\n",
    "        mlflow.log_params(model_params)\n",
    "        mlflow.log_param(\"model_name\", model_name)\n",
    "        mlflow.log_param(\"vectorizer_name\", vectorizer_name)\n",
    "\n",
    "        run_id = run.info.run_id\n",
    "\n",
    "    mlflow.end_run()\n",
    "    return run_id"
   ]
  },
  {
   "cell_type": "code",
   "execution_count": 10,
   "metadata": {},
   "outputs": [
    {
     "name": "stderr",
     "output_type": "stream",
     "text": [
      "2024/06/15 13:58:42 WARNING mlflow.utils.git_utils: Failed to import Git (the Git executable is probably not on your PATH), so Git SHA is not available. Error: Failed to initialize: Bad git executable.\n",
      "The git executable must be specified in one of the following ways:\n",
      "    - be included in your $PATH\n",
      "    - be set via $GIT_PYTHON_GIT_EXECUTABLE\n",
      "    - explicitly set via git.refresh(<full-path-to-git-executable>)\n",
      "\n",
      "All git commands will error until this is rectified.\n",
      "\n",
      "This initial message can be silenced or aggravated in the future by setting the\n",
      "$GIT_PYTHON_REFRESH environment variable. Use one of the following values:\n",
      "    - quiet|q|silence|s|silent|none|n|0: for no message or exception\n",
      "    - warn|w|warning|log|l|1: for a warning message (logging level CRITICAL, displayed by default)\n",
      "    - error|e|exception|raise|r|2: for a raised exception\n",
      "\n",
      "Example:\n",
      "    export GIT_PYTHON_REFRESH=quiet\n",
      "\n",
      "Successfully registered model 'nn_tfidf_vectorizer'.\n",
      "2024/06/15 13:58:50 INFO mlflow.store.model_registry.abstract_store: Waiting up to 300 seconds for model version to finish creation. Model name: nn_tfidf_vectorizer, version 1\n",
      "Created version '1' of model 'nn_tfidf_vectorizer'.\n"
     ]
    }
   ],
   "source": [
    "model_params = {\n",
    "    'model': nn,\n",
    "    'model_name': 'nn',\n",
    "    'model_params': nn_hyperparameters\n",
    "}\n",
    "vectorizer_params = {\n",
    "    'vectorizer': tfidf_vectorizer,\n",
    "    'vectorizer_name': 'tfidf_vectorizer'\n",
    "}\n",
    "run_id = train_and_log_model(X, y, **model_params, **vectorizer_params)"
   ]
  },
  {
   "cell_type": "markdown",
   "metadata": {},
   "source": [
    "## Import and run the classifier\n",
    "- Import the binary classifier as a pickle file from mlartifacts\n",
    "- Run predictions using `.predict()`"
   ]
  },
  {
   "cell_type": "code",
   "execution_count": 11,
   "metadata": {},
   "outputs": [],
   "source": [
    "model_uri = os.path.join('mlartifacts', EXPERIMENT_ID, run_id, 'artifacts', model_params['model_name'], 'model.pkl')\n",
    "binary_classifier = joblib.load(model_uri)"
   ]
  },
  {
   "cell_type": "code",
   "execution_count": 12,
   "metadata": {},
   "outputs": [
    {
     "data": {
      "text/plain": [
       "'spam'"
      ]
     },
     "execution_count": 12,
     "metadata": {},
     "output_type": "execute_result"
    }
   ],
   "source": [
    "SAMPLE_SPAM_TEXT = \"get free bitcoin here\"\n",
    "spam_prediction = binary_classifier.predict([SAMPLE_SPAM_TEXT])[0]\n",
    "spam_prediction"
   ]
  }
 ],
 "metadata": {
  "kernelspec": {
   "display_name": "venv",
   "language": "python",
   "name": "python3"
  },
  "language_info": {
   "codemirror_mode": {
    "name": "ipython",
    "version": 3
   },
   "file_extension": ".py",
   "mimetype": "text/x-python",
   "name": "python",
   "nbconvert_exporter": "python",
   "pygments_lexer": "ipython3",
   "version": "3.11.6"
  }
 },
 "nbformat": 4,
 "nbformat_minor": 2
}
