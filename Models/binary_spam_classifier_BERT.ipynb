{
 "cells": [
  {
   "cell_type": "markdown",
   "metadata": {},
   "source": [
    "# Binary Spam Classifier using BERT\n",
    "The purpose of this notebook is to evaluate the [BERT](https://medium.com/@shaikhrayyan123/a-comprehensive-guide-to-understanding-bert-from-beginners-to-advanced-2379699e2b51) language model for binary spam classification.\n",
    "\n",
    "I strongly recommend following a guide like [this medium article](https://medium.com/@khang.pham.exxact/text-classification-with-bert-7afaacc5e49b)."
   ]
  },
  {
   "cell_type": "code",
   "execution_count": null,
   "metadata": {},
   "outputs": [],
   "source": [
    "import pandas as pd\n",
    "from sklearn.model_selection import KFold\n",
    "from sklearn.metrics import accuracy_score\n",
    "import numpy as np\n",
    "\n",
    "from sklearn.metrics import accuracy_score, precision_score, recall_score, f1_score\n",
    "\n",
    "from dotenv import load_dotenv\n",
    "import os\n",
    "import mlflow\n",
    "import uuid"
   ]
  },
  {
   "cell_type": "code",
   "execution_count": null,
   "metadata": {},
   "outputs": [],
   "source": [
    "# other BERT dependencies like transformers, pytorch etc (make sure to add necessary libraries to requirements.txt)"
   ]
  },
  {
   "cell_type": "code",
   "execution_count": null,
   "metadata": {},
   "outputs": [],
   "source": [
    "RANDOM_STATE = 123"
   ]
  },
  {
   "cell_type": "markdown",
   "metadata": {},
   "source": [
    "## Import Data"
   ]
  },
  {
   "cell_type": "code",
   "execution_count": null,
   "metadata": {},
   "outputs": [],
   "source": [
    "DATA_PATH = os.path.join(\"..\", \"data\")\n",
    "DATASET_FILENAME = \"PLACEHOLDER.pkl\""
   ]
  },
  {
   "cell_type": "code",
   "execution_count": null,
   "metadata": {},
   "outputs": [],
   "source": [
    "df = pd.read_pickle(DATA_PATH, DATASET_FILENAME)\n",
    "df.head()"
   ]
  },
  {
   "cell_type": "markdown",
   "metadata": {},
   "source": [
    "## Config MLflow"
   ]
  },
  {
   "cell_type": "code",
   "execution_count": null,
   "metadata": {},
   "outputs": [],
   "source": [
    "mlflow.set_tracking_uri(\"http://localhost:5000\")\n",
    "\n",
    "EXPERIMENT_NAME = \"binary_classifier_BERT_corpus_0\"\n",
    "RUN_UID = uuid.uuid4()\n",
    "mlflow.set_experiment(experiment_name=EXPERIMENT_NAME)\n",
    "\n",
    "experiment = mlflow.get_experiment_by_name(EXPERIMENT_NAME)\n",
    "print(\"Experiment ID:\", experiment.experiment_id)\n",
    "print(\"Experiment Name:\", experiment.name)"
   ]
  },
  {
   "cell_type": "markdown",
   "metadata": {},
   "source": [
    "## Define BERT Model"
   ]
  },
  {
   "cell_type": "code",
   "execution_count": null,
   "metadata": {},
   "outputs": [],
   "source": []
  },
  {
   "cell_type": "markdown",
   "metadata": {},
   "source": [
    "## Train and Evaluate BERT Classifier\n",
    "- Use k-fold cross evaluation\n",
    "- Track evaluation metrics and hyperparameters in MLflow"
   ]
  },
  {
   "cell_type": "code",
   "execution_count": null,
   "metadata": {},
   "outputs": [],
   "source": [
    "# Record experiments roughly like this\n",
    "\"\"\"\n",
    "    # Log final metrics for the model after all folds\n",
    "            with mlflow.start_run(run_name=f\"{model_name}_{vectorizer_name}_{RUN_UID}\"):\n",
    "                avg_accuracy = np.mean(accuracies)\n",
    "                avg_precision = np.mean(precisions)\n",
    "                avg_recall = np.mean(recalls)\n",
    "                avg_f1 = np.mean(f1_scores)\n",
    "\n",
    "                mlflow.log_param(\"model\", model_name)\n",
    "                mlflow.log_param(\"vectorizer\", vectorizer_name)\n",
    "                mlflow.log_metric(\"avg_accuracy\", avg_accuracy)\n",
    "                mlflow.log_metric(\"avg_precision\", avg_precision)\n",
    "                mlflow.log_metric(\"avg_recall\", avg_recall)\n",
    "                mlflow.log_metric(\"avg_f1_score\", avg_f1)\n",
    "\n",
    "                # Store the result\n",
    "                results[model_name].append(avg_accuracy)\n",
    "\"\"\""
   ]
  }
 ],
 "metadata": {
  "language_info": {
   "name": "python"
  }
 },
 "nbformat": 4,
 "nbformat_minor": 2
}
