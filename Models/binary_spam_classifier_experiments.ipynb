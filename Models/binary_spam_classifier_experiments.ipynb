{
 "cells": [
  {
   "cell_type": "markdown",
   "metadata": {},
   "source": [
    "# Binary Spam Classifier Experiments\n",
    "The purpose of this notebook is to evaluate scikit-learn models for binary spam classification.\n"
   ]
  },
  {
   "cell_type": "code",
   "execution_count": 1,
   "metadata": {},
   "outputs": [],
   "source": [
    "import pandas as pd\n",
    "from sklearn.model_selection import KFold\n",
    "from sklearn.metrics import accuracy_score\n",
    "import numpy as np\n",
    "import requests\n",
    "from sklearn.linear_model import LogisticRegression\n",
    "from sklearn.naive_bayes import GaussianNB\n",
    "from sklearn.neighbors import KNeighborsClassifier\n",
    "from sklearn.neural_network import MLPClassifier\n",
    "from sklearn.ensemble import RandomForestClassifier\n",
    "from sklearn.tree import DecisionTreeClassifier\n",
    "\n",
    "from sklearn.feature_extraction.text import CountVectorizer\n",
    "from sklearn.feature_extraction.text import TfidfVectorizer\n",
    "from sklearn.feature_extraction.text import HashingVectorizer\n",
    "\n",
    "from sklearn.metrics import accuracy_score, precision_score, recall_score, f1_score\n",
    "from scipy.sparse import issparse\n",
    "\n",
    "\n",
    "from dotenv import load_dotenv\n",
    "import os\n",
    "import mlflow\n",
    "import mlflow.sklearn\n",
    "import time\n",
    "\n",
    "import nltk\n",
    "# nltk.download('stopwords')\n",
    "from nltk.corpus import stopwords\n",
    "import string"
   ]
  },
  {
   "cell_type": "code",
   "execution_count": 2,
   "metadata": {},
   "outputs": [],
   "source": [
    "RANDOM_STATE = 123"
   ]
  },
  {
   "cell_type": "markdown",
   "metadata": {},
   "source": [
    "## Import Data"
   ]
  },
  {
   "cell_type": "code",
   "execution_count": 3,
   "metadata": {},
   "outputs": [],
   "source": [
    "DATASET_FILENAME = \"dataset-v2.pkl\"\n",
    "DATA_PATH = os.path.join(\"..\", \"data\", DATASET_FILENAME)"
   ]
  },
  {
   "cell_type": "code",
   "execution_count": 4,
   "metadata": {},
   "outputs": [
    {
     "data": {
      "text/html": [
       "<div>\n",
       "<style scoped>\n",
       "    .dataframe tbody tr th:only-of-type {\n",
       "        vertical-align: middle;\n",
       "    }\n",
       "\n",
       "    .dataframe tbody tr th {\n",
       "        vertical-align: top;\n",
       "    }\n",
       "\n",
       "    .dataframe thead th {\n",
       "        text-align: right;\n",
       "    }\n",
       "</style>\n",
       "<table border=\"1\" class=\"dataframe\">\n",
       "  <thead>\n",
       "    <tr style=\"text-align: right;\">\n",
       "      <th></th>\n",
       "      <th>id</th>\n",
       "      <th>url</th>\n",
       "      <th>author</th>\n",
       "      <th>title</th>\n",
       "      <th>body</th>\n",
       "      <th>labels</th>\n",
       "    </tr>\n",
       "  </thead>\n",
       "  <tbody>\n",
       "    <tr>\n",
       "      <th>0</th>\n",
       "      <td>2172615896</td>\n",
       "      <td>https://api.github.com/repos/lindsaypj/portfol...</td>\n",
       "      <td>lindsaypj</td>\n",
       "      <td>Clicking accordion topic updates terminal text...</td>\n",
       "      <td></td>\n",
       "      <td>[bug, pending MERGE]</td>\n",
       "    </tr>\n",
       "    <tr>\n",
       "      <th>1</th>\n",
       "      <td>2320286757</td>\n",
       "      <td>https://api.github.com/repos/JosefNemec/Playni...</td>\n",
       "      <td>fm-117</td>\n",
       "      <td>[IGDB Metadata] Some games cannot be found</td>\n",
       "      <td>When looking for metadata using the IGDB searc...</td>\n",
       "      <td>[bug]</td>\n",
       "    </tr>\n",
       "    <tr>\n",
       "      <th>2</th>\n",
       "      <td>2242364830</td>\n",
       "      <td>https://api.github.com/repos/nomicflux/scrpg-h...</td>\n",
       "      <td>nomicflux</td>\n",
       "      <td>EnergyChoice needs to handle Physical for Powe...</td>\n",
       "      <td></td>\n",
       "      <td>[bug, enhancement]</td>\n",
       "    </tr>\n",
       "    <tr>\n",
       "      <th>3</th>\n",
       "      <td>2309230756</td>\n",
       "      <td>https://api.github.com/repos/fluentcms/FluentC...</td>\n",
       "      <td>pournasserian</td>\n",
       "      <td>Why should we have `StopPropagation` property ...</td>\n",
       "      <td></td>\n",
       "      <td>[enhancement, question]</td>\n",
       "    </tr>\n",
       "    <tr>\n",
       "      <th>4</th>\n",
       "      <td>2229948881</td>\n",
       "      <td>https://api.github.com/repos/hpsaturn/ESPNowCa...</td>\n",
       "      <td>beniroquai</td>\n",
       "      <td>Many-to-one connection</td>\n",
       "      <td>Hey @hpsaturn, I stumbled upon your project wh...</td>\n",
       "      <td>[enhancement, question]</td>\n",
       "    </tr>\n",
       "  </tbody>\n",
       "</table>\n",
       "</div>"
      ],
      "text/plain": [
       "           id                                                url  \\\n",
       "0  2172615896  https://api.github.com/repos/lindsaypj/portfol...   \n",
       "1  2320286757  https://api.github.com/repos/JosefNemec/Playni...   \n",
       "2  2242364830  https://api.github.com/repos/nomicflux/scrpg-h...   \n",
       "3  2309230756  https://api.github.com/repos/fluentcms/FluentC...   \n",
       "4  2229948881  https://api.github.com/repos/hpsaturn/ESPNowCa...   \n",
       "\n",
       "          author                                              title  \\\n",
       "0      lindsaypj  Clicking accordion topic updates terminal text...   \n",
       "1         fm-117         [IGDB Metadata] Some games cannot be found   \n",
       "2      nomicflux  EnergyChoice needs to handle Physical for Powe...   \n",
       "3  pournasserian  Why should we have `StopPropagation` property ...   \n",
       "4     beniroquai                             Many-to-one connection   \n",
       "\n",
       "                                                body                   labels  \n",
       "0                                                        [bug, pending MERGE]  \n",
       "1  When looking for metadata using the IGDB searc...                    [bug]  \n",
       "2                                                          [bug, enhancement]  \n",
       "3                                                     [enhancement, question]  \n",
       "4  Hey @hpsaturn, I stumbled upon your project wh...  [enhancement, question]  "
      ]
     },
     "execution_count": 4,
     "metadata": {},
     "output_type": "execute_result"
    }
   ],
   "source": [
    "df = pd.read_pickle(DATA_PATH)\n",
    "df.head()"
   ]
  },
  {
   "cell_type": "markdown",
   "metadata": {},
   "source": [
    "## Preprocess data\n",
    "- Split the input features (issue content) and target feature (label)\n",
    "- For binary classification, convert all non-\"spam\" issues into \"not-spam\""
   ]
  },
  {
   "cell_type": "code",
   "execution_count": 5,
   "metadata": {},
   "outputs": [],
   "source": [
    "X = df['title'] + ' ' + df['body']\n",
    "y = df['labels'].apply(lambda x: 'spam' if 'spam' in x else 'not-spam')"
   ]
  },
  {
   "cell_type": "markdown",
   "metadata": {},
   "source": [
    "## Config MLflow"
   ]
  },
  {
   "cell_type": "code",
   "execution_count": 6,
   "metadata": {},
   "outputs": [
    {
     "name": "stdout",
     "output_type": "stream",
     "text": [
      "Experiment ID: 2\n",
      "Experiment Name: binary_classifier_corpus_2\n"
     ]
    }
   ],
   "source": [
    "EXPERIMENT_NAME = \"binary_classifier_corpus_2\"\n",
    "mlflow.set_tracking_uri(\"http://localhost:5000\")\n",
    "mlflow.set_experiment(experiment_name=EXPERIMENT_NAME)\n",
    "experiment = mlflow.get_experiment_by_name(EXPERIMENT_NAME)\n",
    "\n",
    "EXPERIMENT_ID = experiment.experiment_id\n",
    "RUN_UID = str(int(time.time()))\n",
    "\n",
    "print(\"Experiment ID:\",EXPERIMENT_ID)\n",
    "print(\"Experiment Name:\", EXPERIMENT_NAME)"
   ]
  },
  {
   "cell_type": "markdown",
   "metadata": {},
   "source": [
    "## Define Models\n",
    "- Use statistical models and a simple neural network for variety\n",
    "- Notice that we are not using SVC due to computational cost\n",
    "- Save the models in a dictionary with their corresponding hyperparameters for easier indexing"
   ]
  },
  {
   "cell_type": "code",
   "execution_count": 7,
   "metadata": {},
   "outputs": [],
   "source": [
    "logreg_hyperparameters = {\n",
    "    'penalty': 'l2',\n",
    "    'solver': 'lbfgs',\n",
    "    'random_state': RANDOM_STATE\n",
    "}\n",
    "nn_hyperparameters = {\n",
    "    'learning_rate': 'adaptive',\n",
    "    'alpha': 0.0001,\n",
    "    'max_iter': 200,\n",
    "    'activation': 'relu',\n",
    "    'solver': 'adam',\n",
    "    'random_state': RANDOM_STATE\n",
    "}\n",
    "rf_hyperparameters = {\n",
    "    'max_depth': None,\n",
    "    'n_estimators': 100, \n",
    "    'max_features': 'sqrt',\n",
    "    'random_state': RANDOM_STATE\n",
    "}\n",
    "\n",
    "logreg = LogisticRegression(**logreg_hyperparameters)\n",
    "nb = GaussianNB()\n",
    "knn = KNeighborsClassifier(n_neighbors=5)\n",
    "nn = MLPClassifier(**nn_hyperparameters)\n",
    "rf = RandomForestClassifier(**rf_hyperparameters)\n",
    "\n",
    "models = {\n",
    "    \"logreg\": logreg, \n",
    "    # \"nb\": nb, \n",
    "    \"knn\": knn, \n",
    "    \"nn\": nn, \n",
    "    \"rf\": rf\n",
    "}"
   ]
  },
  {
   "cell_type": "markdown",
   "metadata": {},
   "source": [
    "## Define Vectorizers\n",
    "- Text input must be converted into numerical input (vectors) before classification\n",
    "- For computational efficiency, we'll use non-neural vectorizers Bag-of-Words and TFIDF"
   ]
  },
  {
   "cell_type": "code",
   "execution_count": 8,
   "metadata": {},
   "outputs": [],
   "source": [
    "STOP_WORDS = set(stopwords.words('english') + list(string.punctuation))\n",
    "STOP_WORDS = list(STOP_WORDS)\n",
    "\n",
    "vectorizer_params = {\n",
    "    'lowercase': True,\n",
    "    'min_df': 5,\n",
    "    'max_features': 25000\n",
    "}\n",
    "count_vectorizer = CountVectorizer(stop_words=STOP_WORDS, **vectorizer_params) # Bag-of-Words vectorizer\n",
    "tfidf_vectorizer = TfidfVectorizer(stop_words=STOP_WORDS, **vectorizer_params)\n",
    "\n",
    "vectorizers = {\"count_vectorizer\": count_vectorizer, \"tfidf_vectorizer\": tfidf_vectorizer}"
   ]
  },
  {
   "cell_type": "markdown",
   "metadata": {},
   "source": [
    "## Run Experiments\n",
    "- Evaluate model performance using [K-fold cross validation](https://www.analyticsvidhya.com/blog/2022/02/k-fold-cross-validation-technique-and-its-essentials/#:~:text=K%2Dfold%20cross%2Dvalidation%20is,folds%20are%20used%20for%20training.) as an unbiased measure of performance before training final classifier on full dataset\n",
    "- For each classifier model and vectorizer, train and evaluate + save results in MLflow"
   ]
  },
  {
   "cell_type": "code",
   "execution_count": 9,
   "metadata": {},
   "outputs": [
    {
     "name": "stdout",
     "output_type": "stream",
     "text": [
      "Evaluating rf with count_vectorizer\n",
      "fold 0\n",
      "fold 1\n",
      "fold 2\n",
      "fold 3\n",
      "fold 4\n",
      "fold 5\n",
      "fold 6\n",
      "fold 7\n",
      "fold 8\n",
      "fold 9\n"
     ]
    },
    {
     "name": "stderr",
     "output_type": "stream",
     "text": [
      "2024/06/19 09:40:55 WARNING mlflow.utils.git_utils: Failed to import Git (the Git executable is probably not on your PATH), so Git SHA is not available. Error: Failed to initialize: Bad git executable.\n",
      "The git executable must be specified in one of the following ways:\n",
      "    - be included in your $PATH\n",
      "    - be set via $GIT_PYTHON_GIT_EXECUTABLE\n",
      "    - explicitly set via git.refresh(<full-path-to-git-executable>)\n",
      "\n",
      "All git commands will error until this is rectified.\n",
      "\n",
      "This initial message can be silenced or aggravated in the future by setting the\n",
      "$GIT_PYTHON_REFRESH environment variable. Use one of the following values:\n",
      "    - quiet|q|silence|s|silent|none|n|0: for no message or exception\n",
      "    - warn|w|warning|log|l|1: for a warning message (logging level CRITICAL, displayed by default)\n",
      "    - error|e|exception|raise|r|2: for a raised exception\n",
      "\n",
      "Example:\n",
      "    export GIT_PYTHON_REFRESH=quiet\n",
      "\n"
     ]
    },
    {
     "name": "stdout",
     "output_type": "stream",
     "text": [
      "Evaluating rf with tfidf_vectorizer\n",
      "fold 0\n",
      "fold 1\n",
      "fold 2\n",
      "fold 3\n",
      "fold 4\n",
      "fold 5\n",
      "fold 6\n",
      "fold 7\n",
      "fold 8\n",
      "fold 9\n",
      "Model: rf, Vectorizer: count_vectorizer, Average Accuracy: 0.9830426693512878\n",
      "Model: rf, Vectorizer: tfidf_vectorizer, Average Accuracy: 0.9834627339999408\n"
     ]
    }
   ],
   "source": [
    "N_SPLITS = 10\n",
    "\n",
    "kf = KFold(n_splits=N_SPLITS, shuffle=True, random_state=RANDOM_STATE)\n",
    "results = {(model_name, vectorizer_name): [] for model_name in models for vectorizer_name in vectorizers}\n",
    "\n",
    "for model_name, model in models.items():\n",
    "    for vectorizer_name, vectorizer in vectorizers.items():\n",
    "        print(f\"Evaluating {model_name} with {vectorizer_name}\")\n",
    "        X_vectorized = vectorizer.fit_transform(X)  # Vectorize the text input\n",
    "\n",
    "        if issparse(X_vectorized) and isinstance(model, GaussianNB):\n",
    "            X_vectorized = X_vectorized.toarray()  # Convert to dense array\n",
    "\n",
    "        accuracies = []\n",
    "        precisions = []\n",
    "        recalls = []\n",
    "        f1_scores = []\n",
    "\n",
    "        for fold, (train_index, test_index) in enumerate(kf.split(X_vectorized)):\n",
    "            print(\"fold\", fold)\n",
    "            X_train, X_test = X_vectorized[train_index], X_vectorized[test_index]\n",
    "            y_train, y_test = y.iloc[train_index], y.iloc[test_index]\n",
    "\n",
    "            model.fit(X_train, y_train)  # Train the model\n",
    "            y_pred = model.predict(X_test)  # Predict on the test set\n",
    "\n",
    "            # Calculate metrics\n",
    "            accuracy = accuracy_score(y_test, y_pred)\n",
    "            precision = precision_score(y_test, y_pred, pos_label='spam')\n",
    "            recall = recall_score(y_test, y_pred, pos_label='spam')\n",
    "            f1 = f1_score(y_test, y_pred, pos_label='spam')\n",
    "\n",
    "            # Accumulate metrics\n",
    "            accuracies.append(accuracy)\n",
    "            precisions.append(precision)\n",
    "            recalls.append(recall)\n",
    "            f1_scores.append(f1)\n",
    "\n",
    "        # Log final metrics for the model after all folds\n",
    "        with mlflow.start_run(run_name=f\"{model_name}_{vectorizer_name}_{RUN_UID}\") as run:\n",
    "            avg_accuracy = np.mean(accuracies)\n",
    "            avg_precision = np.mean(precisions)\n",
    "            avg_recall = np.mean(recalls)\n",
    "            avg_f1 = np.mean(f1_scores)\n",
    "\n",
    "            mlflow.log_param(\"model\", model_name)\n",
    "            mlflow.log_param(\"vectorizer\", vectorizer_name)\n",
    "            mlflow.log_metrics({\n",
    "                \"avg_accuracy\": avg_accuracy,\n",
    "                \"avg_precision\": avg_precision,\n",
    "                \"avg_recall\": avg_recall,\n",
    "                \"avg_f1_score\": avg_f1\n",
    "            })\n",
    "\n",
    "            # Log hyperparameters\n",
    "            model_params = model.get_params()\n",
    "            mlflow.log_params(model_params)\n",
    "            if model_name != 'rf':\n",
    "                mlflow.log_params(vectorizer_params) # vectorizer params conflict with rf params\n",
    "\n",
    "            results[(model_name, vectorizer_name)].append(avg_accuracy)\n",
    "\n",
    "for (model_name, vectorizer_name), accuracies in results.items():\n",
    "    print(f\"Model: {model_name}, Vectorizer: {vectorizer_name}, Average Accuracy: {np.mean(accuracies)}\")"
   ]
  },
  {
   "cell_type": "code",
   "execution_count": null,
   "metadata": {},
   "outputs": [],
   "source": []
  }
 ],
 "metadata": {
  "kernelspec": {
   "display_name": "venv",
   "language": "python",
   "name": "python3"
  },
  "language_info": {
   "codemirror_mode": {
    "name": "ipython",
    "version": 3
   },
   "file_extension": ".py",
   "mimetype": "text/x-python",
   "name": "python",
   "nbconvert_exporter": "python",
   "pygments_lexer": "ipython3",
   "version": "3.11.6"
  }
 },
 "nbformat": 4,
 "nbformat_minor": 2
}
